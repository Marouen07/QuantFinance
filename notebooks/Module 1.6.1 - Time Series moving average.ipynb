{
 "cells": [
  {
   "cell_type": "markdown",
   "metadata": {},
   "source": [
    "# Introduction to Quantitative Finance\n",
    "\n",
    "Copyright (c) 2019 Python Charmers Pty Ltd, Australia, <https://pythoncharmers.com>. All rights reserved.\n",
    "\n",
    "<img src=\"img/python_charmers_logo.png\" width=\"300\" alt=\"Python Charmers Logo\">\n",
    "\n",
    "Published under the Creative Commons Attribution-NonCommercial 4.0 International (CC BY-NC 4.0) license. See `LICENSE.md` for details.\n",
    "\n",
    "Sponsored by Tibra Global Services, <https://tibra.com>\n",
    "\n",
    "<img src=\"img/tibra_logo.png\" width=\"300\" alt=\"Tibra Logo\">\n",
    "\n",
    "\n",
    "## Module 1.6: Moving average\n",
    "\n",
    "### 1.6.1: Time Series moving average\n",
    "\n",
    "When reviewing how a time series changes (i.e. $\\Delta X_t$), the error itself is normally random (called *white noise*) over time, but may have some dependency on the previous value.\n",
    "\n",
    "For instance, if a stock increases in price one day, this may lead investors to sell their stock, leading to a decreasing (or a return to the mean) on the second day.\n",
    "\n",
    "If we denote a positive $\\epsilon_t$ to be an increase in buying for a given stock at time period $t$, we can model a stock's price change simply using the equation:\n",
    "\n",
    "$\\Delta p_t = \\epsilon_t - 0.5 \\epsilon_{t-1}$\n",
    "\n",
    "That is, the price increases if there is more buying today, with a negative factor if there was more buying yesterday. This type of model is known as a moving average process, specifically one of order 1 (because we are only modelling one time step in the past). We denote this model a $MA(n)$ process for time steps of $n$, and the one above is a $MA(1)$ process because it cares about one step in the past.\n",
    "\n",
    "Note: The process is an MA(1) process whether the coefficient on $\\epsilon_{t-1}$ is positive or negative.\n",
    "\n",
    "More formally, a MA(n) process is:\n",
    "\n",
    "$MA(p) X_t = \\mu + \\epsilon_{t} + \\sum_{i=1}^{p}\\theta_i\\epsilon_{t-i}$\n",
    "\n",
    "Where $\\mu$ is the error term (assumed to be iid) and $\\theta_i$ is a learned parameter in the model (learned, say, from an OLS). The equation for MA(1) is the same, but it is worth noting it, as you'll see the pattern in quite a few places. We'll drop $\\mu$ from the equation, and set $p=1$, giving:\n",
    "\n",
    "$MA(1)X_t = \\epsilon_t + \\theta \\epsilon_{t-1}$\n",
    "\n",
    "Notably, and importantly, $\\epsilon$ is assumed to be independently and identically distributed from a normal distribution with a mean of 0 and a standard deviation (of $\\sigma^2$). This is an important requirement, otherwise the model has other patterns in it that need to be modelled separately.\n",
    "\n",
    "<div class=\"alert alert-warning\">\n",
    "    In the above equation, we used $\\theta$ as the parameter, while our previous models used $\\beta$. It doesn't matter; they are the same thing. The choice here is for two reasons. First, most textbooks use $\\theta$ in this spot. Second, we will combine an MA model with another model later, so we need the different symbols then.\n",
    "</div>\n",
    "\n",
    "<div class=\"alert alert-warning\">\n",
    "    Further, in the example, we modeled the change in some variable. This is not a requirement, as the values $X$ can be any variable, including (but not limited to) the change in value of some process.\n",
    "</div>"
   ]
  },
  {
   "cell_type": "code",
   "execution_count": 1,
   "metadata": {},
   "outputs": [],
   "source": [
    "%run setup.ipy"
   ]
  },
  {
   "cell_type": "code",
   "execution_count": 2,
   "metadata": {},
   "outputs": [],
   "source": [
    "# Generate some random data for our epsilons, remembering they are iid\n",
    "\n",
    "epsilons = np.random.randn(1000)"
   ]
  },
  {
   "cell_type": "code",
   "execution_count": 3,
   "metadata": {},
   "outputs": [],
   "source": [
    "theta = np.array([-0.5])\n",
    "\n",
    "X_t = epsilons[1:] + theta * epsilons[:-1]"
   ]
  },
  {
   "cell_type": "code",
   "execution_count": 4,
   "metadata": {},
   "outputs": [
    {
     "data": {
      "text/plain": [
       "[<matplotlib.lines.Line2D at 0x19889f93048>]"
      ]
     },
     "execution_count": 4,
     "metadata": {},
     "output_type": "execute_result"
    },
    {
     "data": {
      "image/png": "[encoded data removed]",
      "text/plain": [
       "<Figure size 432x288 with 1 Axes>"
      ]
     },
     "metadata": {
      "needs_background": "light"
     },
     "output_type": "display_data"
    }
   ],
   "source": [
    "plt.plot(X_t)"
   ]
  },
  {
   "cell_type": "code",
   "execution_count": 5,
   "metadata": {},
   "outputs": [],
   "source": [
    "# Fit a MA model. statsmodels doesn't expose this nicely directly, so we use ARMA, and turn \"off\" the AR bit.\n",
    "# We will look at the full ARMA model later"
   ]
  },
  {
   "cell_type": "code",
   "execution_count": 5,
   "metadata": {},
   "outputs": [],
   "source": [
    "from statsmodels import api as sm\n",
    "model = sm.tsa.ARMA(X_t, order=(0, 1))"
   ]
  },
  {
   "cell_type": "code",
   "execution_count": 6,
   "metadata": {},
   "outputs": [],
   "source": [
    "results = model.fit()"
   ]
  },
  {
   "cell_type": "code",
   "execution_count": 7,
   "metadata": {},
   "outputs": [
    {
     "data": {
      "text/html": [
       "<table class=\"simpletable\">\n",
       "<caption>ARMA Model Results</caption>\n",
       "<tr>\n",
       "  <th>Dep. Variable:</th>         <td>y</td>        <th>  No. Observations:  </th>    <td>999</td>   \n",
       "</tr>\n",
       "<tr>\n",
       "  <th>Model:</th>            <td>ARMA(0, 1)</td>    <th>  Log Likelihood     </th> <td>-1406.068</td>\n",
       "</tr>\n",
       "<tr>\n",
       "  <th>Method:</th>             <td>css-mle</td>     <th>  S.D. of innovations</th>   <td>0.988</td>  \n",
       "</tr>\n",
       "<tr>\n",
       "  <th>Date:</th>          <td>Thu, 16 Apr 2020</td> <th>  AIC                </th> <td>2818.136</td> \n",
       "</tr>\n",
       "<tr>\n",
       "  <th>Time:</th>              <td>02:34:52</td>     <th>  BIC                </th> <td>2832.856</td> \n",
       "</tr>\n",
       "<tr>\n",
       "  <th>Sample:</th>                <td>0</td>        <th>  HQIC               </th> <td>2823.731</td> \n",
       "</tr>\n",
       "<tr>\n",
       "  <th></th>                       <td> </td>        <th>                     </th>     <td> </td>    \n",
       "</tr>\n",
       "</table>\n",
       "<table class=\"simpletable\">\n",
       "<tr>\n",
       "     <td></td>        <th>coef</th>     <th>std err</th>      <th>z</th>      <th>P>|z|</th>  <th>[0.025</th>    <th>0.975]</th>  \n",
       "</tr>\n",
       "<tr>\n",
       "  <th>const</th>   <td>    0.0054</td> <td>    0.015</td> <td>    0.364</td> <td> 0.716</td> <td>   -0.023</td> <td>    0.034</td>\n",
       "</tr>\n",
       "<tr>\n",
       "  <th>ma.L1.y</th> <td>   -0.5303</td> <td>    0.028</td> <td>  -18.865</td> <td> 0.000</td> <td>   -0.585</td> <td>   -0.475</td>\n",
       "</tr>\n",
       "</table>\n",
       "<table class=\"simpletable\">\n",
       "<caption>Roots</caption>\n",
       "<tr>\n",
       "    <td></td>   <th>            Real</th>  <th>         Imaginary</th> <th>         Modulus</th>  <th>        Frequency</th>\n",
       "</tr>\n",
       "<tr>\n",
       "  <th>MA.1</th> <td>           1.8859</td> <td>          +0.0000j</td> <td>           1.8859</td> <td>           0.0000</td>\n",
       "</tr>\n",
       "</table>"
      ],
      "text/plain": [
       "<class 'statsmodels.iolib.summary.Summary'>\n",
       "\"\"\"\n",
       "                              ARMA Model Results                              \n",
       "==============================================================================\n",
       "Dep. Variable:                      y   No. Observations:                  999\n",
       "Model:                     ARMA(0, 1)   Log Likelihood               -1406.068\n",
       "Method:                       css-mle   S.D. of innovations              0.988\n",
       "Date:                Thu, 16 Apr 2020   AIC                           2818.136\n",
       "Time:                        02:34:52   BIC                           2832.856\n",
       "Sample:                             0   HQIC                          2823.731\n",
       "                                                                              \n",
       "==============================================================================\n",
       "                 coef    std err          z      P>|z|      [0.025      0.975]\n",
       "------------------------------------------------------------------------------\n",
       "const          0.0054      0.015      0.364      0.716      -0.023       0.034\n",
       "ma.L1.y       -0.5303      0.028    -18.865      0.000      -0.585      -0.475\n",
       "                                    Roots                                    \n",
       "=============================================================================\n",
       "                  Real          Imaginary           Modulus         Frequency\n",
       "-----------------------------------------------------------------------------\n",
       "MA.1            1.8859           +0.0000j            1.8859            0.0000\n",
       "-----------------------------------------------------------------------------\n",
       "\"\"\""
      ]
     },
     "execution_count": 7,
     "metadata": {},
     "output_type": "execute_result"
    }
   ],
   "source": [
    "results.summary()"
   ]
  },
  {
   "cell_type": "markdown",
   "metadata": {},
   "source": [
    "Note the coefficient for `ma.L1.y` is approximately our theta value from where we created this data - the model fit it well. The constant coefficient is zero too, which indicates it \"learned\" the zero mean correctly."
   ]
  },
  {
   "cell_type": "code",
   "execution_count": 9,
   "metadata": {},
   "outputs": [],
   "source": [
    "import quandl\n",
    "QUANDL_API_KEY = \"LG83xATyekf_nsd4kobs\"\n",
    "quandl.ApiConfig.api_key = QUANDL_API_KEY\n",
    "interest_rates = quandl.get(\"RBA/F13_FOOIRATCR\")\n",
    "interest_rates = interest_rates[interest_rates.columns[0]]  # Extract the first column, whatever it is called\n",
    "interest_rates.name = \"InterestRate\"  # Rename, as the original had a long name. Hint: don't use spaces or special chars"
   ]
  },
  {
   "cell_type": "code",
   "execution_count": 10,
   "metadata": {},
   "outputs": [
    {
     "name": "stderr",
     "output_type": "stream",
     "text": [
      "C:\\Users\\HP\\Anaconda3\\envs\\finance\\lib\\site-packages\\statsmodels\\tsa\\base\\tsa_model.py:162: ValueWarning: No frequency information was provided, so inferred frequency M will be used.\n",
      "  % freq, ValueWarning)\n"
     ]
    }
   ],
   "source": [
    "model = sm.tsa.ARMA(interest_rates, order=(0, 1))\n",
    "interest_results = model.fit()"
   ]
  },
  {
   "cell_type": "code",
   "execution_count": 11,
   "metadata": {},
   "outputs": [
    {
     "data": {
      "text/html": [
       "<table class=\"simpletable\">\n",
       "<caption>ARMA Model Results</caption>\n",
       "<tr>\n",
       "  <th>Dep. Variable:</th>   <td>InterestRate</td>   <th>  No. Observations:  </th>    <td>363</td>  \n",
       "</tr>\n",
       "<tr>\n",
       "  <th>Model:</th>            <td>ARMA(0, 1)</td>    <th>  Log Likelihood     </th> <td>-669.808</td>\n",
       "</tr>\n",
       "<tr>\n",
       "  <th>Method:</th>             <td>css-mle</td>     <th>  S.D. of innovations</th>   <td>1.528</td> \n",
       "</tr>\n",
       "<tr>\n",
       "  <th>Date:</th>          <td>Thu, 16 Apr 2020</td> <th>  AIC                </th> <td>1345.616</td>\n",
       "</tr>\n",
       "<tr>\n",
       "  <th>Time:</th>              <td>02:36:20</td>     <th>  BIC                </th> <td>1357.299</td>\n",
       "</tr>\n",
       "<tr>\n",
       "  <th>Sample:</th>           <td>01-31-1990</td>    <th>  HQIC               </th> <td>1350.260</td>\n",
       "</tr>\n",
       "<tr>\n",
       "  <th></th>                 <td>- 03-31-2020</td>   <th>                     </th>     <td> </td>   \n",
       "</tr>\n",
       "</table>\n",
       "<table class=\"simpletable\">\n",
       "<tr>\n",
       "           <td></td>             <th>coef</th>     <th>std err</th>      <th>z</th>      <th>P>|z|</th>  <th>[0.025</th>    <th>0.975]</th>  \n",
       "</tr>\n",
       "<tr>\n",
       "  <th>const</th>              <td>    5.0086</td> <td>    0.153</td> <td>   32.688</td> <td> 0.000</td> <td>    4.708</td> <td>    5.309</td>\n",
       "</tr>\n",
       "<tr>\n",
       "  <th>ma.L1.InterestRate</th> <td>    0.9134</td> <td>    0.015</td> <td>   60.434</td> <td> 0.000</td> <td>    0.884</td> <td>    0.943</td>\n",
       "</tr>\n",
       "</table>\n",
       "<table class=\"simpletable\">\n",
       "<caption>Roots</caption>\n",
       "<tr>\n",
       "    <td></td>   <th>            Real</th>  <th>         Imaginary</th> <th>         Modulus</th>  <th>        Frequency</th>\n",
       "</tr>\n",
       "<tr>\n",
       "  <th>MA.1</th> <td>          -1.0948</td> <td>          +0.0000j</td> <td>           1.0948</td> <td>           0.5000</td>\n",
       "</tr>\n",
       "</table>"
      ],
      "text/plain": [
       "<class 'statsmodels.iolib.summary.Summary'>\n",
       "\"\"\"\n",
       "                              ARMA Model Results                              \n",
       "==============================================================================\n",
       "Dep. Variable:           InterestRate   No. Observations:                  363\n",
       "Model:                     ARMA(0, 1)   Log Likelihood                -669.808\n",
       "Method:                       css-mle   S.D. of innovations              1.528\n",
       "Date:                Thu, 16 Apr 2020   AIC                           1345.616\n",
       "Time:                        02:36:20   BIC                           1357.299\n",
       "Sample:                    01-31-1990   HQIC                          1350.260\n",
       "                         - 03-31-2020                                         \n",
       "======================================================================================\n",
       "                         coef    std err          z      P>|z|      [0.025      0.975]\n",
       "--------------------------------------------------------------------------------------\n",
       "const                  5.0086      0.153     32.688      0.000       4.708       5.309\n",
       "ma.L1.InterestRate     0.9134      0.015     60.434      0.000       0.884       0.943\n",
       "                                    Roots                                    \n",
       "=============================================================================\n",
       "                  Real          Imaginary           Modulus         Frequency\n",
       "-----------------------------------------------------------------------------\n",
       "MA.1           -1.0948           +0.0000j            1.0948            0.5000\n",
       "-----------------------------------------------------------------------------\n",
       "\"\"\""
      ]
     },
     "execution_count": 11,
     "metadata": {},
     "output_type": "execute_result"
    }
   ],
   "source": [
    "interest_results.summary()"
   ]
  },
  {
   "cell_type": "markdown",
   "metadata": {},
   "source": [
    "#### Exercises\n",
    "\n",
    "1. Fit an MA model to a stock price (the solution uses AAPL).\n",
    "2. What are the coefficients on the constant and lag? What does this mean?\n",
    "3. Fit the model on the change in stock price, rather than the actual price.\n",
    "4. What are the coefficients, and how does that relate to the change in price?\n",
    "\n",
    "\n",
    "#### Extended Exercise\n",
    "\n",
    "We are going to drill right down now into a small dataset and observe how a $\\epsilon$ value changes the result of the MA(1) model. Create a small dataset of just ten $\\epsilon$ values of random 0s and 1s. Visualise the resulting MA model with a theta value of 0.5, -0.5, 2, -2, 100 and -100. Observe how runs of 0s and 1s are affected, and how a value affects the next time period in the series."
   ]
  },
  {
   "cell_type": "code",
   "execution_count": 27,
   "metadata": {},
   "outputs": [
    {
     "data": {
      "text/html": [
       "<div>\n",
       "<style scoped>\n",
       "    .dataframe tbody tr th:only-of-type {\n",
       "        vertical-align: middle;\n",
       "    }\n",
       "\n",
       "    .dataframe tbody tr th {\n",
       "        vertical-align: top;\n",
       "    }\n",
       "\n",
       "    .dataframe thead th {\n",
       "        text-align: right;\n",
       "    }\n",
       "</style>\n",
       "<table border=\"1\" class=\"dataframe\">\n",
       "  <thead>\n",
       "    <tr style=\"text-align: right;\">\n",
       "      <th></th>\n",
       "      <th>Open</th>\n",
       "      <th>High</th>\n",
       "      <th>Low</th>\n",
       "      <th>Close</th>\n",
       "      <th>Volume</th>\n",
       "      <th>Dividend</th>\n",
       "      <th>Split</th>\n",
       "      <th>Adj_Open</th>\n",
       "      <th>Adj_High</th>\n",
       "      <th>Adj_Low</th>\n",
       "      <th>Adj_Close</th>\n",
       "      <th>Adj_Volume</th>\n",
       "    </tr>\n",
       "    <tr>\n",
       "      <th>Date</th>\n",
       "      <th></th>\n",
       "      <th></th>\n",
       "      <th></th>\n",
       "      <th></th>\n",
       "      <th></th>\n",
       "      <th></th>\n",
       "      <th></th>\n",
       "      <th></th>\n",
       "      <th></th>\n",
       "      <th></th>\n",
       "      <th></th>\n",
       "      <th></th>\n",
       "    </tr>\n",
       "  </thead>\n",
       "  <tbody>\n",
       "    <tr>\n",
       "      <th>2013-09-03</th>\n",
       "      <td>493.10</td>\n",
       "      <td>500.60</td>\n",
       "      <td>487.35</td>\n",
       "      <td>488.580</td>\n",
       "      <td>11854600.0</td>\n",
       "      <td>0.0</td>\n",
       "      <td>1.0</td>\n",
       "      <td>62.867770</td>\n",
       "      <td>63.823982</td>\n",
       "      <td>62.134674</td>\n",
       "      <td>62.291493</td>\n",
       "      <td>82982200.0</td>\n",
       "    </tr>\n",
       "    <tr>\n",
       "      <th>2013-09-04</th>\n",
       "      <td>499.56</td>\n",
       "      <td>502.24</td>\n",
       "      <td>496.28</td>\n",
       "      <td>498.691</td>\n",
       "      <td>12322600.0</td>\n",
       "      <td>0.0</td>\n",
       "      <td>1.0</td>\n",
       "      <td>63.691388</td>\n",
       "      <td>64.033074</td>\n",
       "      <td>63.273204</td>\n",
       "      <td>63.580594</td>\n",
       "      <td>86258200.0</td>\n",
       "    </tr>\n",
       "    <tr>\n",
       "      <th>2013-09-05</th>\n",
       "      <td>500.25</td>\n",
       "      <td>500.68</td>\n",
       "      <td>493.64</td>\n",
       "      <td>495.270</td>\n",
       "      <td>8441700.0</td>\n",
       "      <td>0.0</td>\n",
       "      <td>1.0</td>\n",
       "      <td>63.779359</td>\n",
       "      <td>63.834182</td>\n",
       "      <td>62.936617</td>\n",
       "      <td>63.144434</td>\n",
       "      <td>59091900.0</td>\n",
       "    </tr>\n",
       "    <tr>\n",
       "      <th>2013-09-06</th>\n",
       "      <td>498.44</td>\n",
       "      <td>499.38</td>\n",
       "      <td>489.95</td>\n",
       "      <td>498.220</td>\n",
       "      <td>12840200.0</td>\n",
       "      <td>0.0</td>\n",
       "      <td>1.0</td>\n",
       "      <td>63.548593</td>\n",
       "      <td>63.668439</td>\n",
       "      <td>62.466161</td>\n",
       "      <td>63.520544</td>\n",
       "      <td>89881400.0</td>\n",
       "    </tr>\n",
       "    <tr>\n",
       "      <th>2013-09-09</th>\n",
       "      <td>505.00</td>\n",
       "      <td>507.92</td>\n",
       "      <td>503.48</td>\n",
       "      <td>506.170</td>\n",
       "      <td>12167400.0</td>\n",
       "      <td>0.0</td>\n",
       "      <td>1.0</td>\n",
       "      <td>64.384960</td>\n",
       "      <td>64.757246</td>\n",
       "      <td>64.191168</td>\n",
       "      <td>64.534129</td>\n",
       "      <td>85171800.0</td>\n",
       "    </tr>\n",
       "  </tbody>\n",
       "</table>\n",
       "</div>"
      ],
      "text/plain": [
       "              Open    High     Low    Close      Volume  Dividend  Split  \\\n",
       "Date                                                                       \n",
       "2013-09-03  493.10  500.60  487.35  488.580  11854600.0       0.0    1.0   \n",
       "2013-09-04  499.56  502.24  496.28  498.691  12322600.0       0.0    1.0   \n",
       "2013-09-05  500.25  500.68  493.64  495.270   8441700.0       0.0    1.0   \n",
       "2013-09-06  498.44  499.38  489.95  498.220  12840200.0       0.0    1.0   \n",
       "2013-09-09  505.00  507.92  503.48  506.170  12167400.0       0.0    1.0   \n",
       "\n",
       "             Adj_Open   Adj_High    Adj_Low  Adj_Close  Adj_Volume  \n",
       "Date                                                                \n",
       "2013-09-03  62.867770  63.823982  62.134674  62.291493  82982200.0  \n",
       "2013-09-04  63.691388  64.033074  63.273204  63.580594  86258200.0  \n",
       "2013-09-05  63.779359  63.834182  62.936617  63.144434  59091900.0  \n",
       "2013-09-06  63.548593  63.668439  62.466161  63.520544  89881400.0  \n",
       "2013-09-09  64.384960  64.757246  64.191168  64.534129  85171800.0  "
      ]
     },
     "execution_count": 27,
     "metadata": {},
     "output_type": "execute_result"
    }
   ],
   "source": [
    "aapl=quandl.get('EOD/AAPL')\n",
    "aapl.head()"
   ]
  },
  {
   "cell_type": "code",
   "execution_count": 28,
   "metadata": {},
   "outputs": [
    {
     "name": "stderr",
     "output_type": "stream",
     "text": [
      "C:\\Users\\HP\\Anaconda3\\envs\\finance\\lib\\site-packages\\statsmodels\\tsa\\base\\tsa_model.py:218: ValueWarning: A date index has been provided, but it has no associated frequency information and so will be ignored when e.g. forecasting.\n",
      "  ' ignored when e.g. forecasting.', ValueWarning)\n"
     ]
    },
    {
     "data": {
      "text/html": [
       "<table class=\"simpletable\">\n",
       "<caption>ARMA Model Results</caption>\n",
       "<tr>\n",
       "  <th>Dep. Variable:</th>     <td>Adj_Close</td>    <th>  No. Observations:  </th>   <td>1090</td>   \n",
       "</tr>\n",
       "<tr>\n",
       "  <th>Model:</th>            <td>ARMA(0, 1)</td>    <th>  Log Likelihood     </th> <td>-4406.364</td>\n",
       "</tr>\n",
       "<tr>\n",
       "  <th>Method:</th>             <td>css-mle</td>     <th>  S.D. of innovations</th>  <td>13.767</td>  \n",
       "</tr>\n",
       "<tr>\n",
       "  <th>Date:</th>          <td>Thu, 16 Apr 2020</td> <th>  AIC                </th> <td>8818.728</td> \n",
       "</tr>\n",
       "<tr>\n",
       "  <th>Time:</th>              <td>03:07:19</td>     <th>  BIC                </th> <td>8833.710</td> \n",
       "</tr>\n",
       "<tr>\n",
       "  <th>Sample:</th>                <td>0</td>        <th>  HQIC               </th> <td>8824.399</td> \n",
       "</tr>\n",
       "<tr>\n",
       "  <th></th>                       <td> </td>        <th>                     </th>     <td> </td>    \n",
       "</tr>\n",
       "</table>\n",
       "<table class=\"simpletable\">\n",
       "<tr>\n",
       "         <td></td>            <th>coef</th>     <th>std err</th>      <th>z</th>      <th>P>|z|</th>  <th>[0.025</th>    <th>0.975]</th>  \n",
       "</tr>\n",
       "<tr>\n",
       "  <th>const</th>           <td>  106.1569</td> <td>    0.821</td> <td>  129.306</td> <td> 0.000</td> <td>  104.548</td> <td>  107.766</td>\n",
       "</tr>\n",
       "<tr>\n",
       "  <th>ma.L1.Adj_Close</th> <td>    0.9696</td> <td>    0.005</td> <td>  177.813</td> <td> 0.000</td> <td>    0.959</td> <td>    0.980</td>\n",
       "</tr>\n",
       "</table>\n",
       "<table class=\"simpletable\">\n",
       "<caption>Roots</caption>\n",
       "<tr>\n",
       "    <td></td>   <th>            Real</th>  <th>         Imaginary</th> <th>         Modulus</th>  <th>        Frequency</th>\n",
       "</tr>\n",
       "<tr>\n",
       "  <th>MA.1</th> <td>          -1.0313</td> <td>          +0.0000j</td> <td>           1.0313</td> <td>           0.5000</td>\n",
       "</tr>\n",
       "</table>"
      ],
      "text/plain": [
       "<class 'statsmodels.iolib.summary.Summary'>\n",
       "\"\"\"\n",
       "                              ARMA Model Results                              \n",
       "==============================================================================\n",
       "Dep. Variable:              Adj_Close   No. Observations:                 1090\n",
       "Model:                     ARMA(0, 1)   Log Likelihood               -4406.364\n",
       "Method:                       css-mle   S.D. of innovations             13.767\n",
       "Date:                Thu, 16 Apr 2020   AIC                           8818.728\n",
       "Time:                        03:07:19   BIC                           8833.710\n",
       "Sample:                             0   HQIC                          8824.399\n",
       "                                                                              \n",
       "===================================================================================\n",
       "                      coef    std err          z      P>|z|      [0.025      0.975]\n",
       "-----------------------------------------------------------------------------------\n",
       "const             106.1569      0.821    129.306      0.000     104.548     107.766\n",
       "ma.L1.Adj_Close     0.9696      0.005    177.813      0.000       0.959       0.980\n",
       "                                    Roots                                    \n",
       "=============================================================================\n",
       "                  Real          Imaginary           Modulus         Frequency\n",
       "-----------------------------------------------------------------------------\n",
       "MA.1           -1.0313           +0.0000j            1.0313            0.5000\n",
       "-----------------------------------------------------------------------------\n",
       "\"\"\""
      ]
     },
     "execution_count": 28,
     "metadata": {},
     "output_type": "execute_result"
    }
   ],
   "source": [
    "model=sm.tsa.ARMA(aapl['Adj_Close'],order=(0,1))\n",
    "aapl_results=model.fit()\n",
    "aapl_results.summary()"
   ]
  },
  {
   "cell_type": "code",
   "execution_count": 29,
   "metadata": {},
   "outputs": [
    {
     "name": "stderr",
     "output_type": "stream",
     "text": [
      "C:\\Users\\HP\\Anaconda3\\envs\\finance\\lib\\site-packages\\statsmodels\\tsa\\base\\tsa_model.py:218: ValueWarning: A date index has been provided, but it has no associated frequency information and so will be ignored when e.g. forecasting.\n",
      "  ' ignored when e.g. forecasting.', ValueWarning)\n"
     ]
    },
    {
     "data": {
      "text/html": [
       "<table class=\"simpletable\">\n",
       "<caption>ARMA Model Results</caption>\n",
       "<tr>\n",
       "  <th>Dep. Variable:</th>     <td>Adj_Close</td>    <th>  No. Observations:  </th>   <td>1089</td>   \n",
       "</tr>\n",
       "<tr>\n",
       "  <th>Model:</th>            <td>ARMA(0, 1)</td>    <th>  Log Likelihood     </th> <td>-1970.963</td>\n",
       "</tr>\n",
       "<tr>\n",
       "  <th>Method:</th>             <td>css-mle</td>     <th>  S.D. of innovations</th>   <td>1.478</td>  \n",
       "</tr>\n",
       "<tr>\n",
       "  <th>Date:</th>          <td>Thu, 16 Apr 2020</td> <th>  AIC                </th> <td>3947.926</td> \n",
       "</tr>\n",
       "<tr>\n",
       "  <th>Time:</th>              <td>03:07:33</td>     <th>  BIC                </th> <td>3962.905</td> \n",
       "</tr>\n",
       "<tr>\n",
       "  <th>Sample:</th>                <td>0</td>        <th>  HQIC               </th> <td>3953.595</td> \n",
       "</tr>\n",
       "<tr>\n",
       "  <th></th>                       <td> </td>        <th>                     </th>     <td> </td>    \n",
       "</tr>\n",
       "</table>\n",
       "<table class=\"simpletable\">\n",
       "<tr>\n",
       "         <td></td>            <th>coef</th>     <th>std err</th>      <th>z</th>      <th>P>|z|</th>  <th>[0.025</th>    <th>0.975]</th>  \n",
       "</tr>\n",
       "<tr>\n",
       "  <th>const</th>           <td>    0.0950</td> <td>    0.046</td> <td>    2.064</td> <td> 0.039</td> <td>    0.005</td> <td>    0.185</td>\n",
       "</tr>\n",
       "<tr>\n",
       "  <th>ma.L1.Adj_Close</th> <td>    0.0271</td> <td>    0.031</td> <td>    0.871</td> <td> 0.384</td> <td>   -0.034</td> <td>    0.088</td>\n",
       "</tr>\n",
       "</table>\n",
       "<table class=\"simpletable\">\n",
       "<caption>Roots</caption>\n",
       "<tr>\n",
       "    <td></td>   <th>            Real</th>  <th>         Imaginary</th> <th>         Modulus</th>  <th>        Frequency</th>\n",
       "</tr>\n",
       "<tr>\n",
       "  <th>MA.1</th> <td>         -36.9667</td> <td>          +0.0000j</td> <td>          36.9667</td> <td>           0.5000</td>\n",
       "</tr>\n",
       "</table>"
      ],
      "text/plain": [
       "<class 'statsmodels.iolib.summary.Summary'>\n",
       "\"\"\"\n",
       "                              ARMA Model Results                              \n",
       "==============================================================================\n",
       "Dep. Variable:              Adj_Close   No. Observations:                 1089\n",
       "Model:                     ARMA(0, 1)   Log Likelihood               -1970.963\n",
       "Method:                       css-mle   S.D. of innovations              1.478\n",
       "Date:                Thu, 16 Apr 2020   AIC                           3947.926\n",
       "Time:                        03:07:33   BIC                           3962.905\n",
       "Sample:                             0   HQIC                          3953.595\n",
       "                                                                              \n",
       "===================================================================================\n",
       "                      coef    std err          z      P>|z|      [0.025      0.975]\n",
       "-----------------------------------------------------------------------------------\n",
       "const               0.0950      0.046      2.064      0.039       0.005       0.185\n",
       "ma.L1.Adj_Close     0.0271      0.031      0.871      0.384      -0.034       0.088\n",
       "                                    Roots                                    \n",
       "=============================================================================\n",
       "                  Real          Imaginary           Modulus         Frequency\n",
       "-----------------------------------------------------------------------------\n",
       "MA.1          -36.9667           +0.0000j           36.9667            0.5000\n",
       "-----------------------------------------------------------------------------\n",
       "\"\"\""
      ]
     },
     "execution_count": 29,
     "metadata": {},
     "output_type": "execute_result"
    }
   ],
   "source": [
    "model=sm.tsa.ARMA(aapl['Adj_Close'].diff().dropna(),order=(0,1))\n",
    "aapl_results=model.fit()\n",
    "aapl_results.summary()"
   ]
  },
  {
   "cell_type": "code",
   "execution_count": 37,
   "metadata": {},
   "outputs": [
    {
     "name": "stdout",
     "output_type": "stream",
     "text": [
      "theta:  0.5\n",
      "0.5\n"
     ]
    },
    {
     "data": {
      "text/plain": [
       "[<matplotlib.lines.Line2D at 0x1988d3833c8>]"
      ]
     },
     "execution_count": 37,
     "metadata": {},
     "output_type": "execute_result"
    },
    {
     "data": {
      "image/png": "[encoded data removed]",
      "text/plain": [
       "<Figure size 432x288 with 1 Axes>"
      ]
     },
     "metadata": {
      "needs_background": "light"
     },
     "output_type": "display_data"
    }
   ],
   "source": [
    "# Extended exercise solution\n",
    "epsilons = np.array([0, 0, 0, 1, 0, 1, 1, 1, 1, 0]) # Try different combinations here.\n",
    "\n",
    "theta = -0.5\n",
    "print(\"theta: \", theta)\n",
    "\n",
    "X = epsilons[1:] + theta * epsilons[:-1]\n",
    "print(np.mean(epsilons))\n",
    "\n",
    "plt.plot(X)"
   ]
  },
  {
   "cell_type": "markdown",
   "metadata": {},
   "source": [
    "*For solutions, see `solutions/ma_model.py`*"
   ]
  },
  {
   "cell_type": "markdown",
   "metadata": {},
   "source": [
    "### Properties of MA(1)\n",
    "\n",
    "We can identify that the MA(1) process has an expected value of zero. Because the $\\epsilon$ terms are iid with a mean of 0, the expected value for these values is 0. This gives us:\n",
    "\n",
    "$E[X_t] = E[\\epsilon_t + \\theta \\epsilon_{t-1}] = E[\\epsilon_t] + \\theta E[\\epsilon_{t-1}] = 0$\n",
    "\n",
    "Also note that $\\theta$ is constant, and when you have a constant it can be taken out of the $E$. So, for constant $\\theta$:\n",
    "\n",
    "$E[\\theta \\epsilon] = \\theta E[\\epsilon]$\n",
    "\n",
    "Next, we know the variance of $X_t$, again, because the values of $\\epsilon$ are iid, with a mean of 0, and a standard deviation of $\\sigma^2$ (from the definition). This gives us:\n",
    "\n",
    "$Var(X_t) = Var(\\epsilon_{t} + \\theta \\epsilon_{t-1} = Var(\\epsilon_{t}) + \\theta^2 Var(\\epsilon_{t-1})$\n",
    "\n",
    "Plugging in the known $Var(\\epsilon_{t}) = \\sigma^2$ gives us:\n",
    "\n",
    "$Var(X_t) = \\sigma^2 + \\theta^2\\sigma^2 = \\sigma^2(1 + \\theta^2)$\n",
    "\n",
    "Finally, we could intuitively guess that the covariance at lagged intervales would approximate 0 for lags larger than the period of the MA model. More formally, if $i > 1$, then :\n",
    "\n",
    "$Cov(X_t, X_{t-i}) = Cov(\\epsilon_{t} + \\theta\\epsilon_{t-1}, \\epsilon_{t-i} + \\theta\\epsilon_{t-i-i}) = 0$\n",
    "\n",
    "This is because $\\epsilon_{t}$ is iid (sidenote: this is a very useful property in statistics!) and there are no terms overlapping between the two $X$ lags being computed on. However, when $i=1$ there is an overlap, and the covariance is no longer 0:\n",
    "\n",
    "$Cov(X_t, X_{t-1}) = Cov(\\epsilon_{t} + \\theta\\epsilon_{t-1}, \\epsilon_{t-1} + \\theta\\epsilon_{t-2})$\n",
    "\n",
    "Once more, as $\\epsilon_{t}$ is iid, when we expand this covariance, we only need to evaluate $Cov(\\theta\\epsilon_{t-1}, \\epsilon_{t-1})$ as $Cov(\\epsilon_{t}, \\epsilon_{t+h})=0$ whenever $h \\neq 0$.\n",
    "\n",
    "$Cov(X_t, X_{t-1}) = \\theta Cov(\\epsilon_{t-1}, \\epsilon_{t-1}) = \\theta \\sigma^2$\n",
    "\n",
    "As $Cov(X_t, X_t+h)$ only depends on $h$ (i.e. only the lag matters, not when it was), the covariance doesn't change with time.\n",
    "\n",
    "These three properties indicate that the MA(1) process is stationary. A property we will look at further in the next module."
   ]
  },
  {
   "cell_type": "markdown",
   "metadata": {},
   "source": [
    "#### Extended Exercise\n",
    "\n",
    "1. Does an MA(2) model have an expected value of 0?\n",
    "2. Does an MA(2) model have a covariance tending to 0 with increasing time lags?"
   ]
  }
 ],
 "metadata": {
  "kernelspec": {
   "display_name": "Python 3",
   "language": "python",
   "name": "python3"
  },
  "language_info": {
   "codemirror_mode": {
    "name": "ipython",
    "version": 3
   },
   "file_extension": ".py",
   "mimetype": "text/x-python",
   "name": "python",
   "nbconvert_exporter": "python",
   "pygments_lexer": "ipython3",
   "version": "3.7.7"
  }
 },
 "nbformat": 4,
 "nbformat_minor": 2
}
