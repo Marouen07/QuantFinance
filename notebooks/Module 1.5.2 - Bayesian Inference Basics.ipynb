{
 "cells": [
  {
   "cell_type": "markdown",
   "metadata": {},
   "source": [
    "# Introduction to Quantitative Finance\n",
    "\n",
    "Copyright (c) 2019 Python Charmers Pty Ltd, Australia, <https://pythoncharmers.com>. All rights reserved.\n",
    "\n",
    "<img src=\"img/python_charmers_logo.png\" width=\"300\" alt=\"Python Charmers Logo\">\n",
    "\n",
    "Published under the Creative Commons Attribution-NonCommercial 4.0 International (CC BY-NC 4.0) license. See `LICENSE.md` for details.\n",
    "\n",
    "Sponsored by Tibra Global Services, <https://tibra.com>\n",
    "\n",
    "<img src=\"img/tibra_logo.png\" width=\"300\" alt=\"Tibra Logo\">\n",
    "\n",
    "\n",
    "## Module 1.5: Bayesian inference\n",
    "\n",
    "### 1.5.2 Basics of Bayesian inference\n",
    "\n",
    "Bayesian inference allows us to incorporate existing knowledge into our analysis. This previous knowledge is known as a *prior*, and will affect our results. Choosing a good prior, however, is not that important if you have lots of data. With data, your prior becomes just the starting point, with a minimal effect on the results.\n",
    "\n",
    "Such *a priori* information can come from population statistics, estimations, or other sources. Using a population statistic, or a default (all outcomes equally likely) is a normal starting place.\n",
    "\n",
    "### Example 1: Medical diagnosis\n",
    "\n",
    "Guido wakes up with spots all over his face. What is the probability he has smallpox?\n",
    "\n",
    "We can't observe the causes (they are latent), only the data. Bayes' theorem allows us to invert this to make inferences about the unknown causes.\n",
    "\n",
    "From public medical statistics we know that 90% of people with smallpox have spots, whereas 80% of people with chickenpox have spots. This gives us the following likelihoods:\n",
    "\n",
    "$$p(\\textrm{spots | smallpox}) = 0.9$$\n",
    "\n",
    "$$p(\\textrm{spots | chickenpox}) = 0.8$$\n",
    "\n",
    "From population statistics gathered, we also know that 125 people in every 1000 have spots and that 1 in every million people have smallpox.\n",
    "\n",
    "### Bayes' theorem\n",
    "\n",
    "Let $D$ be the observed data and $M$ be a certain model for the data (or hypothesis).\n",
    "\n",
    "Bayes' theorem can be derived from the laws of probability. It states:\n",
    "\n",
    "$$\n",
    "p(M | D) = p(M) \\times \\frac{p(D|M)}{p(D)}\n",
    "$$\n",
    "\n",
    "$$\n",
    "\\textrm{posterior} = \\textrm{prior } \\times \\frac{\\textrm{likelihood}}{\\textrm{ evidence}}\n",
    "$$\n",
    "\n",
    "### Likelihood\n",
    "\n",
    "The \"likelihood of smallpox\" is the conditional probability of spots (the data) given that the patient has smallpox (the model / diagnosis). In other words, if we assume the outcome, what is the probability of seeing this data?"
   ]
  },
  {
   "cell_type": "code",
   "execution_count": 1,
   "metadata": {
    "attributes": {
     "classes": [],
     "id": "",
     "n": "78"
    }
   },
   "outputs": [],
   "source": [
    "def likelihood(data, model):\n",
    "    \"\"\"\n",
    "    Conditional probability of the data ('spots' / 'no spots') given the model\n",
    "    ('smallpox' / 'not smallpox').\n",
    "    \"\"\"\n",
    "    if data == 'spots':\n",
    "        return {'smallpox': 0.9, 'not smallpox': 0.05}[model]\n",
    "    else:\n",
    "        return {'smallpox': 0.1, 'not smallpox': 0.95}[model]"
   ]
  },
  {
   "cell_type": "code",
   "execution_count": 2,
   "metadata": {
    "attributes": {
     "classes": [],
     "id": "",
     "n": "79"
    }
   },
   "outputs": [
    {
     "data": {
      "text/plain": [
       "0.9"
      ]
     },
     "execution_count": 2,
     "metadata": {},
     "output_type": "execute_result"
    }
   ],
   "source": [
    "likelihood('spots', 'smallpox')  # If a patient has small pox, there is a 90% chance they have spots"
   ]
  },
  {
   "cell_type": "markdown",
   "metadata": {},
   "source": [
    "### Prior\n",
    "\n",
    "The \"prior\" reflects our \"prior knowledge\" expressed as a background level of belief. What is the background prevalence of smallpox in the general population?\n",
    "\n",
    "Generally, and without seeing any data, not many people have smallpox. If you checked a random person, it is *much* more likely they would not have small pox. Note that this value ignores any data (like the presence of spots)."
   ]
  },
  {
   "cell_type": "code",
   "execution_count": 3,
   "metadata": {
    "attributes": {
     "classes": [],
     "id": "",
     "n": "80"
    }
   },
   "outputs": [],
   "source": [
    "def prior(model):\n",
    "    return {'smallpox': 1e-6, 'not smallpox': 1 - 1e-6}.get(model)"
   ]
  },
  {
   "cell_type": "markdown",
   "metadata": {},
   "source": [
    "The evidence and posterior have definitions in terms of each other (but for the normalization flag). The evidence function tells us the probability of seeing the given evidence."
   ]
  },
  {
   "cell_type": "code",
   "execution_count": 4,
   "metadata": {
    "attributes": {
     "classes": [],
     "id": "",
     "n": "81"
    }
   },
   "outputs": [],
   "source": [
    "def evidence(data):\n",
    "    \"\"\"\n",
    "    The proportion of people in the general population who have spots or no spots\n",
    "    \"\"\"\n",
    "    return (posterior('smallpox', data, normalize=False) +\n",
    "            posterior('not smallpox', data, normalize=False))"
   ]
  },
  {
   "cell_type": "code",
   "execution_count": 5,
   "metadata": {
    "attributes": {
     "classes": [],
     "id": "",
     "n": "82"
    }
   },
   "outputs": [],
   "source": [
    "def posterior(model, data, normalize=True):\n",
    "    \"\"\"\n",
    "    Posterior probability of the model ('smallpox / 'not smallpox')\n",
    "    given the data ('spots' / 'no spots')\n",
    "    \"\"\"\n",
    "    numerator = likelihood(data, model) * prior(model)\n",
    "    if not normalize:\n",
    "        return numerator\n",
    "    else:\n",
    "        return numerator / evidence(data)"
   ]
  },
  {
   "cell_type": "code",
   "execution_count": 6,
   "metadata": {
    "attributes": {
     "classes": [],
     "id": "",
     "n": "83"
    }
   },
   "outputs": [
    {
     "data": {
      "text/plain": [
       "0.05000085"
      ]
     },
     "execution_count": 6,
     "metadata": {},
     "output_type": "execute_result"
    }
   ],
   "source": [
    "evidence('spots')"
   ]
  },
  {
   "cell_type": "code",
   "execution_count": 7,
   "metadata": {
    "attributes": {
     "classes": [],
     "id": "",
     "n": "84"
    }
   },
   "outputs": [
    {
     "data": {
      "text/plain": [
       "1.799969400520191e-05"
      ]
     },
     "execution_count": 7,
     "metadata": {},
     "output_type": "execute_result"
    }
   ],
   "source": [
    "posterior('smallpox', 'spots', normalize=True)"
   ]
  },
  {
   "cell_type": "code",
   "execution_count": 8,
   "metadata": {
    "attributes": {
     "classes": [],
     "id": "",
     "n": "85"
    }
   },
   "outputs": [
    {
     "data": {
      "text/plain": [
       "1.052632520776466e-07"
      ]
     },
     "execution_count": 8,
     "metadata": {},
     "output_type": "execute_result"
    }
   ],
   "source": [
    "posterior('smallpox', 'no spots', normalize=True)"
   ]
  },
  {
   "cell_type": "code",
   "execution_count": 9,
   "metadata": {
    "attributes": {
     "classes": [],
     "id": "",
     "n": "86"
    }
   },
   "outputs": [
    {
     "data": {
      "text/plain": [
       "0.9999820003059948"
      ]
     },
     "execution_count": 9,
     "metadata": {},
     "output_type": "execute_result"
    }
   ],
   "source": [
    "posterior('not smallpox', 'spots', normalize=True)"
   ]
  },
  {
   "cell_type": "code",
   "execution_count": 10,
   "metadata": {
    "attributes": {
     "classes": [],
     "id": "",
     "n": "87"
    }
   },
   "outputs": [
    {
     "data": {
      "text/plain": [
       "0.999999894736748"
      ]
     },
     "execution_count": 10,
     "metadata": {},
     "output_type": "execute_result"
    }
   ],
   "source": [
    "posterior('not smallpox', 'no spots', normalize=True)"
   ]
  },
  {
   "cell_type": "markdown",
   "metadata": {},
   "source": [
    "#### Exercises\n",
    "\n",
    "1. Check that substituting $x$ above correctly leads to the sum of both model probabilities (given spots and given no spots) to be 1\n",
    "2. We learn from public medical records that 80% of people with chickenpox have spots and that 1 in every 10,000 people have chickenpox. (As before, 1 in every 20 people have spots.)\n",
    "3. Suppose $x$ (the probability of spots without chickenpox) were much higher, like among teenagers. How would this affect the posterior probability of chickenpox? First, consider this intuitively, then run the code again to check your understanding.\n",
    "\n",
    "Repeat the above steps for chickenpox."
   ]
  },
  {
   "cell_type": "markdown",
   "metadata": {
    "attributes": {
     "classes": [],
     "id": "",
     "n": "44"
    }
   },
   "source": [
    "*For the solution to exercise 1, see `solutions/check_normalized.py`*\n",
    "\n",
    "*For the solution to exercise 2 see `solutions/public_medical.py`*"
   ]
  },
  {
   "cell_type": "markdown",
   "metadata": {},
   "source": [
    "#### Question does it matter for normalization what the value of $x$ is?\n",
    "\n",
    "Try a few values using `conditional_sum.subs(x, value)`."
   ]
  },
  {
   "cell_type": "code",
   "execution_count": 8,
   "metadata": {},
   "outputs": [],
   "source": [
    "# You'll need to run the solution in this notebook to continue\n",
    "%run -i solutions/public_medical.py"
   ]
  },
  {
   "cell_type": "code",
   "execution_count": 13,
   "metadata": {
    "attributes": {
     "classes": [],
     "id": "",
     "n": "91"
    },
    "scrolled": true
   },
   "outputs": [
    {
     "data": {
      "text/plain": [
       "0.00039988003598920324"
      ]
     },
     "execution_count": 13,
     "metadata": {},
     "output_type": "execute_result"
    }
   ],
   "source": [
    "posterior('chickenpox', 'spots', x=0.5)  # If 50% of those with spots do not have chicken pox"
   ]
  },
  {
   "cell_type": "markdown",
   "metadata": {},
   "source": [
    "### Model comparison\n",
    "\n",
    "If we want to compare two models or hypotheses for the given data, we can compare the ratio of posterior probabilities (also known as posterior odds) between the two hypotheses.\n",
    "\n",
    "Here, with hypotheses $\\theta_c$ (Guido has chickenpox) and $\\theta_s$ (Guido has smallpox):\n",
    "\n",
    "$$\n",
    "R_{\\textrm{posterior}} = \\frac{p(\\theta_c | x)}{p(\\theta_s | x)}\n",
    "$$\n",
    "\n",
    "If we apply Bayes' rule, the marginal likelihoods cancel, so:\n",
    "\n",
    "$$\n",
    "R_\\textrm{posterior} = \\frac{p(x | \\theta_c)}{p(x | \\theta_s)} \\frac{p(\\theta_c)}{p(\\theta_s)}\n",
    "$$\n",
    "\n",
    "$$\n",
    "\\textrm{posterior odds} = \\textrm{Bayes factor} \\times \\textrm{prior odds}\n",
    "$$\n",
    "\n",
    "### Bayesian hypothesis testing\n",
    "\n",
    "We can do Bayesian hypothesis testing by calculating the Bayes factor, prior odds, and posterior odds for the hypothesis of chickenpox vs smallpox.\n",
    "\n",
    "\n",
    "### Example 2: flipping coins\n",
    "\n",
    "**Question:** How would you decide how unfair a coin is, based on just two coin flips?\n",
    "\n",
    "Define $p(\\theta)$ as the probability that the coin has a given bias $\\theta$. Define bias of 1 to be *always heads* and a bias of 0 to be *always tails*.\n",
    "\n",
    "Start with the likelihood, $p(x | \\theta)$"
   ]
  },
  {
   "cell_type": "code",
   "execution_count": 14,
   "metadata": {
    "attributes": {
     "classes": [],
     "id": "",
     "n": "50"
    }
   },
   "outputs": [],
   "source": [
    "import numpy as np\n",
    "import scipy.stats\n",
    "import matplotlib.pyplot as plt\n",
    "%matplotlib inline"
   ]
  },
  {
   "cell_type": "code",
   "execution_count": 15,
   "metadata": {
    "attributes": {
     "classes": [],
     "id": "",
     "n": "102"
    }
   },
   "outputs": [],
   "source": [
    "def likelihood(data, theta):\n",
    "    \n",
    "    \"\"\"\n",
    "    Conditional probability of the data (x heads out of N coin tosses),\n",
    "    given the bias theta of the model (potentially biased).\n",
    "    \"\"\"\n",
    "    \n",
    "    x, N = data\n",
    "    return scipy.stats.binom(N, theta).pmf(x)"
   ]
  },
  {
   "cell_type": "code",
   "execution_count": 16,
   "metadata": {
    "attributes": {
     "classes": [],
     "id": "",
     "n": "96"
    }
   },
   "outputs": [],
   "source": [
    "N = 15"
   ]
  },
  {
   "cell_type": "code",
   "execution_count": 17,
   "metadata": {
    "attributes": {
     "classes": [],
     "id": "",
     "n": "97"
    }
   },
   "outputs": [
    {
     "data": {
      "text/plain": [
       "0.20613038097752118"
      ]
     },
     "execution_count": 17,
     "metadata": {},
     "output_type": "execute_result"
    }
   ],
   "source": [
    "likelihood([5, 15], 0.3)"
   ]
  },
  {
   "cell_type": "markdown",
   "metadata": {},
   "source": [
    "Now we will choose a prior. Let's go with a Beta prior. (Look up \"conjugate priors\".)"
   ]
  },
  {
   "cell_type": "code",
   "execution_count": 21,
   "metadata": {
    "attributes": {
     "classes": [],
     "id": "",
     "n": "98"
    }
   },
   "outputs": [],
   "source": [
    "def prior(theta, a, b):\n",
    "    return scipy.stats.beta(a, b).pdf(theta)"
   ]
  },
  {
   "cell_type": "code",
   "execution_count": 23,
   "metadata": {},
   "outputs": [
    {
     "data": {
      "text/plain": [
       "0.3999999999999999"
      ]
     },
     "execution_count": 23,
     "metadata": {},
     "output_type": "execute_result"
    }
   ],
   "source": [
    "prior(0.8, 1, 2)  # In a beta distribution with params (1, 2), there is a 40% chance of seeing 80% heads"
   ]
  },
  {
   "cell_type": "code",
   "execution_count": 22,
   "metadata": {
    "attributes": {
     "classes": [],
     "id": "",
     "n": "99"
    }
   },
   "outputs": [],
   "source": [
    "params = [0.5, 1, 2, 3]\n",
    "x = np.linspace(0, 1, 100)"
   ]
  },
  {
   "cell_type": "code",
   "execution_count": 23,
   "metadata": {
    "attributes": {
     "classes": [],
     "id": "",
     "n": "100"
    }
   },
   "outputs": [
    {
     "data": {
      "image/png": "[encoded data removed]",
      "text/plain": [
       "<Figure size 864x864 with 16 Axes>"
      ]
     },
     "metadata": {
      "needs_background": "light"
     },
     "output_type": "display_data"
    }
   ],
   "source": [
    "%run plot_priors.ipy"
   ]
  },
  {
   "cell_type": "markdown",
   "metadata": {},
   "source": [
    "#### Exercise\n",
    "\n",
    "Which do you think best matches the belief that the coin is:\n",
    "1. more likely to be fair than biased\n",
    "1. just as likely to be biased as fair\n",
    "1. probably biased towards heads\n"
   ]
  },
  {
   "cell_type": "code",
   "execution_count": 24,
   "metadata": {},
   "outputs": [],
   "source": [
    "beta_params = ((2, 2), (1, 1), (1, 0.5))\n"
   ]
  },
  {
   "cell_type": "markdown",
   "metadata": {},
   "source": [
    "*For solutions, see `solutions/best_coin.py`*"
   ]
  },
  {
   "cell_type": "markdown",
   "metadata": {},
   "source": [
    "### Now, how to incorporate the data?\n",
    "\n",
    "Once we have our prior, we now collect data. This data is then used to update our model, better informing our outcome.\n",
    "\n",
    "### Evidence / marginal posterior\n",
    "\n",
    "The evidence for the data is now: $$p(\\textrm{data}) = \\int_{0}^1 d\\theta \\space p(\\textrm{data | }\\theta) p(\\theta)$$"
   ]
  },
  {
   "cell_type": "code",
   "execution_count": 25,
   "metadata": {
    "attributes": {
     "classes": [],
     "id": "",
     "n": "60"
    }
   },
   "outputs": [],
   "source": [
    "from scipy.integrate import quad\n",
    "\n",
    "def evidence(data):\n",
    "    def lik(theta):\n",
    "        return likelihood(data, theta)\n",
    "    def post(theta):\n",
    "        return lik(theta) * prior(theta, alpha, beta)\n",
    "    evidence, abserr = quad(post, 0, 1, )\n",
    "    return evidence"
   ]
  },
  {
   "cell_type": "markdown",
   "metadata": {},
   "source": [
    "For now, we will just fix these: (\"just as likely biased as fair\"):"
   ]
  },
  {
   "cell_type": "code",
   "execution_count": 26,
   "metadata": {
    "attributes": {
     "classes": [],
     "id": "",
     "n": "59"
    }
   },
   "outputs": [],
   "source": [
    "(a, b) = (1, 1)"
   ]
  },
  {
   "cell_type": "code",
   "execution_count": 27,
   "metadata": {
    "attributes": {
     "classes": [],
     "id": "",
     "n": "58"
    }
   },
   "outputs": [],
   "source": [
    "trials = [0, 1, 2, 3, 4, 8, 16, 32, 50, 150]\n",
    "data = [0, 1, 1, 1, 1, 4, 6, 9, 13, 48]\n",
    "theta = np.linspace(0, 1)"
   ]
  },
  {
   "cell_type": "code",
   "execution_count": 28,
   "metadata": {
    "attributes": {
     "classes": [],
     "id": "",
     "n": "63"
    }
   },
   "outputs": [
    {
     "data": {
      "text/plain": [
       "array([0.00000000e+00, 4.33764125e-43, 1.42583319e-29, 4.50574362e-22,\n",
       "       4.75557907e-17, 2.15466932e-13, 1.30523859e-10, 1.93544556e-08,\n",
       "       1.00674662e-06, 2.31423249e-05])"
      ]
     },
     "execution_count": 28,
     "metadata": {},
     "output_type": "execute_result"
    }
   ],
   "source": [
    "def lik(theta): \n",
    "    return likelihood((data[-1], trials[-1]), theta) \n",
    "lik(theta)[:10] "
   ]
  },
  {
   "cell_type": "code",
   "execution_count": 31,
   "metadata": {
    "attributes": {
     "classes": [],
     "id": "",
     "n": "64"
    }
   },
   "outputs": [
    {
     "data": {
      "text/plain": [
       "0.009392766325311568"
      ]
     },
     "execution_count": 31,
     "metadata": {},
     "output_type": "execute_result"
    }
   ],
   "source": [
    "evidence((data[-1], trials[-1]))"
   ]
  },
  {
   "cell_type": "code",
   "execution_count": 32,
   "metadata": {
    "attributes": {
     "classes": [],
     "id": "",
     "n": "67"
    }
   },
   "outputs": [],
   "source": [
    "def posterior(model, data, normalize=True):\n",
    "    \"\"\"\n",
    "    Posterior probability of the model given the data\n",
    "    \"\"\"\n",
    "    numerator = likelihood(data, model) * prior(model, a, b)\n",
    "    if not normalize:\n",
    "        return numerator\n",
    "    else:\n",
    "        return numerator / evidence(data)"
   ]
  },
  {
   "cell_type": "code",
   "execution_count": 33,
   "metadata": {
    "attributes": {
     "classes": [],
     "id": "",
     "n": "68"
    }
   },
   "outputs": [
    {
     "data": {
      "text/plain": [
       "1.5956869799149278"
      ]
     },
     "execution_count": 33,
     "metadata": {},
     "output_type": "execute_result"
    }
   ],
   "source": [
    "posterior(0.4, (15, 50))"
   ]
  },
  {
   "cell_type": "code",
   "execution_count": 34,
   "metadata": {
    "attributes": {
     "classes": [],
     "id": "",
     "n": "69"
    }
   },
   "outputs": [
    {
     "data": {
      "text/plain": [
       "[<matplotlib.lines.Line2D at 0x7fc640c74e10>]"
      ]
     },
     "execution_count": 34,
     "metadata": {},
     "output_type": "execute_result"
    },
    {
     "data": {
      "image/png": "[encoded data removed]",
      "text/plain": [
       "<Figure size 432x288 with 1 Axes>"
      ]
     },
     "metadata": {
      "needs_background": "light"
     },
     "output_type": "display_data"
    }
   ],
   "source": [
    "plt.plot(theta, [posterior(t, (35, 50)) for t in theta])"
   ]
  },
  {
   "cell_type": "code",
   "execution_count": 35,
   "metadata": {},
   "outputs": [],
   "source": [
    "beta_params = ((2, 2), (1, 1), (1, 0.5))"
   ]
  },
  {
   "cell_type": "code",
   "execution_count": 36,
   "metadata": {},
   "outputs": [
    {
     "data": {
      "image/png": "[encoded data removed]",
      "text/plain": [
       "<Figure size 864x864 with 10 Axes>"
      ]
     },
     "metadata": {
      "needs_background": "light"
     },
     "output_type": "display_data"
    }
   ],
   "source": [
    "%run show_posteriors_coins.ipy"
   ]
  },
  {
   "cell_type": "markdown",
   "metadata": {},
   "source": [
    "### Result\n",
    "\n",
    "The result of Bayesian inference is a posterior **probability distribution**. This gives us more information than just the single most probable model or hypothesis; it also gives us information about the error associated with each choice.\n",
    "\n",
    "### Credible intervals\n",
    "\n",
    "A convenient way to summarize the spread of the posterior distribution is with a \"credible interval\" of \"Highest Posterior Density (HPD). This is the shortest interval containing a given portion of the probability density (such as 50%, 95% or 98%).\n",
    "\n",
    "#### Extended Exercise\n",
    "Implement this function:"
   ]
  },
  {
   "cell_type": "code",
   "execution_count": 37,
   "metadata": {},
   "outputs": [],
   "source": [
    "def hpd(posterior, alpha=0.05):\n",
    "    \"\"\"\n",
    "    A (1 - α) credible interval\n",
    "    \n",
    "    Parameters\n",
    "    ----------\n",
    "    posterior : function\n",
    "        A posterior probability density function (normalized)\n",
    "    \n",
    "    alpha : float\n",
    "        A significance level (of sorts)\n",
    "        \n",
    "    Returns\n",
    "    -------\n",
    "        A tuple (lower, upper) giving the lower and upper bounds for\n",
    "        the (1 - α) credible interval\n",
    "    \"\"\"\n",
    "    ..."
   ]
  },
  {
   "cell_type": "markdown",
   "metadata": {},
   "source": [
    "You might try using `scipy.integrate.quad`."
   ]
  },
  {
   "cell_type": "markdown",
   "metadata": {},
   "source": [
    "### Diachronic Interpretation\n",
    "\n",
    "The \"Diachronic Interpretation\" of Bayesian statistics is the application of the key equation over time, specifically as we collect new data. This allows us to update the likelihood of our probabilities.\n",
    "\n",
    "We saw it above with our coin flips. As we flip more coins, we collect more data, giving us a greater understanding of whether the coin is fair or not.\n",
    "\n",
    "When performing a Diachronic Interpretation, you want your hypotheses to have the following two properties:\n",
    "\n",
    "1. the hypotheses are mutually exclusive and only one can be true, and\n",
    "2. the hypotheses are exhaustive, and no other possibility is possible.\n",
    "\n",
    "\n",
    "You can definitely perform a Bayesian analysis when the above properties are not true, but the analysis is harder and more care needs to be taken in your analysis.\n",
    "\n",
    "Specifically, we rewrite Bayes formula with $H$ and $D$:\n",
    "\n",
    "$P(H|D) = \\frac{P(H)P(D|H)}{P(D)}$\n",
    "\n",
    "Where:\n",
    "\n",
    "* P(H|D) is the probability of the hypothesis we are interested in, given we have seen the data $D$, called the **posterior**.\n",
    "* P(H) is the probability of the hypothesis itself, given no data was seen. A normal approach here is to simply consider all hypothesis likely, unless you have some other reasonable value. This is known as the **prior**.\n",
    "* P(D|H) is the probability we would see the data, assuming the hypothesis is true, known as the **likelihood**.\n",
    "* P(D) is the probability we would see the data, and is a **normalisation factor**.\n",
    "\n",
    "\n",
    "That last value, $P(D)$ is the same for all hypotheses we would be considering, meaning that we could simply not compute it. This happens in the Naive Bayes algorithm in machine learning, and has no detremental impact on the decision making process, but it does mean that the values you get after applying Bayes theorem are not actually probabilities."
   ]
  },
  {
   "cell_type": "markdown",
   "metadata": {},
   "source": [
    "#### Extended exercise\n",
    "\n",
    "Start with the following two hypotheses:\n",
    "\n",
    "1. The gold price is correlated with the (1 day lagged) GBP/USD conversion rate.\n",
    "2. The gold price is uncorrelated with the GPB/USD conversion rate.\n",
    "\n",
    "Potential data sources:\n",
    "* Gold prices: https://www.quandl.com/data/LBMA/GOLD-Gold-Price-London-Fixing\n",
    "* GBP/USD: https://www.quandl.com/data/BUNDESBANK/BBEX3_D_GBP_USD_CM_AC_000-Exchange-Rates-For-The-Us-Dollar-In-The-United-Kingdom-Gbp-1-Usd-middle\n",
    "\n",
    "Using a diachronic interpretation of Bayes Theorem, which of the stated hypothesis is true?\n",
    "\n",
    "Some pointers to get you started:\n",
    "\n",
    "1. Create a definition for \"is correlated\" before you start. You may choose, for example, \"if $R^2 > 0.7$\"\n",
    "1. Get both datasets, clean them up and create a single DataFrame with the values we are interested in\n",
    "1. Perform a Linear Regression using the previous techniques and review the confidence interval and $R^2$ data. While this is unrelated to the Bayes theorem, you can use your result here to give you an expectation on the results of this exercise. \n",
    "1. The prior probability can simply be 50% for each theorem, as without data, we don't really have any way to change from this.\n",
    "1. The probability of the data does not need to be computed for comparing hypothesis"
   ]
  }
 ],
 "metadata": {
  "kernelspec": {
   "display_name": "Python 3",
   "language": "python",
   "name": "python3"
  },
  "language_info": {
   "codemirror_mode": {
    "name": "ipython",
    "version": 3
   },
   "file_extension": ".py",
   "mimetype": "text/x-python",
   "name": "python",
   "nbconvert_exporter": "python",
   "pygments_lexer": "ipython3",
   "version": "3.7.7"
  }
 },
 "nbformat": 4,
 "nbformat_minor": 2
}
