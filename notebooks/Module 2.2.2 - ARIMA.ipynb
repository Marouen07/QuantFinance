{
 "cells": [
  {
   "cell_type": "markdown",
   "metadata": {},
   "source": [
    "# Introduction to Quantitative Finance\n",
    "\n",
    "Copyright (c) 2019 Python Charmers Pty Ltd, Australia, <https://pythoncharmers.com>. All rights reserved.\n",
    "\n",
    "<img src=\"img/python_charmers_logo.png\" width=\"300\" alt=\"Python Charmers Logo\">\n",
    "\n",
    "Published under the Creative Commons Attribution-NonCommercial 4.0 International (CC BY-NC 4.0) license. See `LICENSE.md` for details.\n",
    "\n",
    "Sponsored by Tibra Global Services, <https://tibra.com>\n",
    "\n",
    "<img src=\"img/tibra_logo.png\" width=\"300\" alt=\"Tibra Logo\">\n",
    "\n",
    "\n",
    "## Module 2.2: Modelling Techniques\n",
    "\n",
    "### 2.2.2 ARIMA\n",
    "\n",
    "In this module we will introduce ARIMA, an improvement over the ARMA model we reviewed in a past module (1.6.4). We will quickly review the key parts of ARMA as we build to the new ARIMA model:\n",
    "\n",
    "\n",
    "### Autoregressive Model (AR)\n",
    "\n",
    "The autoregressive model is used for predicting the value of a variable in a time series. We use the annotation $AR(n)$ for an autoregressive model with $n$ periods.\n",
    "\n",
    "$AR(n) X_t = c + \\sum_{i=0}^n{\\beta_i X_{t-n+1}} + u_t$\n",
    "\n",
    "We can simplify in the case of an AR(1) model, that is $n=1$. This simplifies further if we also assume a zero mean (which can be done by demeaning the data beforehand, giving $c=0$) and an error term $u$ that is white noise:\n",
    "\n",
    "$AR(1) = \\beta X_{t-1}$\n",
    "\n",
    "### Moving Average (MA)\n",
    "\n",
    "A Moving Average (MA) model is given as:\n",
    "\n",
    "$MA(p) X_t = \\mu + \\epsilon_{t} + \\sum_{i=1}^{p}\\theta_i\\epsilon_{t-i}$\n",
    "\n",
    "and specifically the MA(1) process as:\n",
    "\n",
    "$MA(1)X_t = \\epsilon_t + \\theta \\epsilon_{t-1}$\n",
    "\n",
    "Here, the values $\\epsilon_t$ are the error terms for a given time step $t$ and $\\mu$ is the average of the values of $X$.\n"
   ]
  },
  {
   "cell_type": "markdown",
   "metadata": {},
   "source": [
    "### ARMA model\n",
    "\n",
    "The ARMA model is a combination of both the AR model and the MA. It is quite a simple combination - we just concatenate the models, but the training of the model does become more complicated. \n",
    "\n",
    "An $ARMA(p, q)$ model, where $p$ is the lag in the autoregressive model and $p$ is the lag in the moving-average model, given as:\n",
    "\n",
    "$X_t = c + \\epsilon_t + \\sum_{i=1}^{q}{\\beta X_{t-i}} + \\sum_{i=1}^{p}\\theta_i\\epsilon_{t-i}$"
   ]
  },
  {
   "cell_type": "markdown",
   "metadata": {},
   "source": [
    "#### Extended Exercise\n",
    "\n",
    "It is often argued that cryptocurrency prices for non-Bitcoin coins \"follow\" Bitcoin, i.e. they lag. Test this hypothesis on a daily level by checking if the values for Ethereum (ETH) and Ripple (XRP) can be modelled using a ARMA model. Test different values for p and q and find the best model.\n",
    "\n",
    "You can get daily prices from Quandl, via BITFINEX: https://www.quandl.com/data/BITFINEX-Bitfinex\n",
    "\n",
    "You can review module 1.6.4 for code on how to run the ARMA model in statsmodels."
   ]
  },
  {
   "cell_type": "code",
   "execution_count": 1,
   "metadata": {},
   "outputs": [
    {
     "name": "stdout",
     "output_type": "stream",
     "text": [
      "XRP:  {'bic':              0            1            2\n",
      "0   582.812951  -683.009382 -1536.634038\n",
      "1 -3088.304914 -3151.993986 -3154.188557\n",
      "2 -3137.365428 -3157.599284 -3150.668409\n",
      "3 -3136.349367 -3150.674242 -3155.729851\n",
      "4 -3187.568099 -3180.647168 -3193.151889, 'bic_min_order': (4, 2)}\n",
      "ETH: {'bic':               0             1             2\n",
      "0  20056.005935  18194.439284  16845.624378\n",
      "1  13111.795283  13116.317959  13121.791120\n",
      "2  13116.485408  13114.689456  13121.698988\n",
      "3  13122.525388  13121.654748  13088.127451\n",
      "4  13127.642009  13126.232022  13096.527558, 'bic_min_order': (3, 2)}\n"
     ]
    }
   ],
   "source": [
    "%run setup.ipy\n",
    "\n",
    "import quandl\n",
    "import my_secrets\n",
    "quandl.ApiConfig.api_key = my_secrets.QUANDL_API_KEY\n",
    "\n",
    "xrp = quandl.get(\"BITFINEX/XRPUSD\")[\"Last\"]\n",
    "eth = quandl.get(\"BITFINEX/ETHUSD\")[\"Last\"]\n",
    "\n",
    "# Should we replace the index? Some dates are missing so we can't set a frquency to 'D' without actually\n",
    "# replacing the entire index? This generates a lot of warnings...\n",
    "\n",
    "\n",
    "# When we've played with values a bit, we can then use the below.\n",
    "from statsmodels.tsa import stattools\n",
    "xrp_stats = stattools.arma_order_select_ic(xrp) \n",
    "eth_stats = stattools.arma_order_select_ic(eth) \n",
    "print(\"XRP: \", xrp_stats)\n",
    "print(\"ETH:\", eth_stats)\n"
   ]
  },
  {
   "cell_type": "code",
   "execution_count": 4,
   "metadata": {},
   "outputs": [
    {
     "name": "stderr",
     "output_type": "stream",
     "text": [
      "C:\\Users\\HP\\Anaconda3\\envs\\finance\\lib\\site-packages\\statsmodels\\tsa\\base\\tsa_model.py:218: ValueWarning: A date index has been provided, but it has no associated frequency information and so will be ignored when e.g. forecasting.\n",
      "  ' ignored when e.g. forecasting.', ValueWarning)\n",
      "C:\\Users\\HP\\Anaconda3\\envs\\finance\\lib\\site-packages\\statsmodels\\tsa\\base\\tsa_model.py:218: ValueWarning: A date index has been provided, but it has no associated frequency information and so will be ignored when e.g. forecasting.\n",
      "  ' ignored when e.g. forecasting.', ValueWarning)\n"
     ]
    },
    {
     "data": {
      "text/html": [
       "<table class=\"simpletable\">\n",
       "<caption>ARMA Model Results</caption>\n",
       "<tr>\n",
       "  <th>Dep. Variable:</th>       <td>Last</td>       <th>  No. Observations:  </th>   <td>1455</td>   \n",
       "</tr>\n",
       "<tr>\n",
       "  <th>Model:</th>            <td>ARMA(3, 2)</td>    <th>  Log Likelihood     </th> <td>-6518.574</td>\n",
       "</tr>\n",
       "<tr>\n",
       "  <th>Method:</th>             <td>css-mle</td>     <th>  S.D. of innovations</th>  <td>21.314</td>  \n",
       "</tr>\n",
       "<tr>\n",
       "  <th>Date:</th>          <td>Fri, 17 Apr 2020</td> <th>  AIC                </th> <td>13051.148</td>\n",
       "</tr>\n",
       "<tr>\n",
       "  <th>Time:</th>              <td>16:11:39</td>     <th>  BIC                </th> <td>13088.127</td>\n",
       "</tr>\n",
       "<tr>\n",
       "  <th>Sample:</th>                <td>0</td>        <th>  HQIC               </th> <td>13064.945</td>\n",
       "</tr>\n",
       "<tr>\n",
       "  <th></th>                       <td> </td>        <th>                     </th>     <td> </td>    \n",
       "</tr>\n",
       "</table>\n",
       "<table class=\"simpletable\">\n",
       "<tr>\n",
       "       <td></td>         <th>coef</th>     <th>std err</th>      <th>z</th>      <th>P>|z|</th>  <th>[0.025</th>    <th>0.975]</th>  \n",
       "</tr>\n",
       "<tr>\n",
       "  <th>const</th>      <td>  252.4146</td> <td>  114.272</td> <td>    2.209</td> <td> 0.027</td> <td>   28.446</td> <td>  476.383</td>\n",
       "</tr>\n",
       "<tr>\n",
       "  <th>ar.L1.Last</th> <td>    1.5442</td> <td>    0.023</td> <td>   66.585</td> <td> 0.000</td> <td>    1.499</td> <td>    1.590</td>\n",
       "</tr>\n",
       "<tr>\n",
       "  <th>ar.L2.Last</th> <td>   -1.4673</td> <td>    0.039</td> <td>  -37.725</td> <td> 0.000</td> <td>   -1.544</td> <td>   -1.391</td>\n",
       "</tr>\n",
       "<tr>\n",
       "  <th>ar.L3.Last</th> <td>    0.9165</td> <td>    0.022</td> <td>   42.504</td> <td> 0.000</td> <td>    0.874</td> <td>    0.959</td>\n",
       "</tr>\n",
       "<tr>\n",
       "  <th>ma.L1.Last</th> <td>   -0.4890</td> <td>    0.021</td> <td>  -23.297</td> <td> 0.000</td> <td>   -0.530</td> <td>   -0.448</td>\n",
       "</tr>\n",
       "<tr>\n",
       "  <th>ma.L2.Last</th> <td>    0.9471</td> <td>    0.015</td> <td>   63.086</td> <td> 0.000</td> <td>    0.918</td> <td>    0.977</td>\n",
       "</tr>\n",
       "</table>\n",
       "<table class=\"simpletable\">\n",
       "<caption>Roots</caption>\n",
       "<tr>\n",
       "    <td></td>   <th>            Real</th>  <th>         Imaginary</th> <th>         Modulus</th>  <th>        Frequency</th>\n",
       "</tr>\n",
       "<tr>\n",
       "  <th>AR.1</th> <td>           1.0048</td> <td>          -0.0000j</td> <td>           1.0048</td> <td>          -0.0000</td>\n",
       "</tr>\n",
       "<tr>\n",
       "  <th>AR.2</th> <td>           0.2981</td> <td>          -0.9985j</td> <td>           1.0421</td> <td>          -0.2038</td>\n",
       "</tr>\n",
       "<tr>\n",
       "  <th>AR.3</th> <td>           0.2981</td> <td>          +0.9985j</td> <td>           1.0421</td> <td>           0.2038</td>\n",
       "</tr>\n",
       "<tr>\n",
       "  <th>MA.1</th> <td>           0.2582</td> <td>          -0.9946j</td> <td>           1.0275</td> <td>          -0.2096</td>\n",
       "</tr>\n",
       "<tr>\n",
       "  <th>MA.2</th> <td>           0.2582</td> <td>          +0.9946j</td> <td>           1.0275</td> <td>           0.2096</td>\n",
       "</tr>\n",
       "</table>"
      ],
      "text/plain": [
       "<class 'statsmodels.iolib.summary.Summary'>\n",
       "\"\"\"\n",
       "                              ARMA Model Results                              \n",
       "==============================================================================\n",
       "Dep. Variable:                   Last   No. Observations:                 1455\n",
       "Model:                     ARMA(3, 2)   Log Likelihood               -6518.574\n",
       "Method:                       css-mle   S.D. of innovations             21.314\n",
       "Date:                Fri, 17 Apr 2020   AIC                          13051.148\n",
       "Time:                        16:11:39   BIC                          13088.127\n",
       "Sample:                             0   HQIC                         13064.945\n",
       "                                                                              \n",
       "==============================================================================\n",
       "                 coef    std err          z      P>|z|      [0.025      0.975]\n",
       "------------------------------------------------------------------------------\n",
       "const        252.4146    114.272      2.209      0.027      28.446     476.383\n",
       "ar.L1.Last     1.5442      0.023     66.585      0.000       1.499       1.590\n",
       "ar.L2.Last    -1.4673      0.039    -37.725      0.000      -1.544      -1.391\n",
       "ar.L3.Last     0.9165      0.022     42.504      0.000       0.874       0.959\n",
       "ma.L1.Last    -0.4890      0.021    -23.297      0.000      -0.530      -0.448\n",
       "ma.L2.Last     0.9471      0.015     63.086      0.000       0.918       0.977\n",
       "                                    Roots                                    \n",
       "=============================================================================\n",
       "                  Real          Imaginary           Modulus         Frequency\n",
       "-----------------------------------------------------------------------------\n",
       "AR.1            1.0048           -0.0000j            1.0048           -0.0000\n",
       "AR.2            0.2981           -0.9985j            1.0421           -0.2038\n",
       "AR.3            0.2981           +0.9985j            1.0421            0.2038\n",
       "MA.1            0.2582           -0.9946j            1.0275           -0.2096\n",
       "MA.2            0.2582           +0.9946j            1.0275            0.2096\n",
       "-----------------------------------------------------------------------------\n",
       "\"\"\""
      ]
     },
     "execution_count": 4,
     "metadata": {},
     "output_type": "execute_result"
    }
   ],
   "source": [
    "\n",
    "from statsmodels import api as sms\n",
    "xrp_model = sms.tsa.ARMA(xrp, order=(4, 2))\n",
    "eth_model = sms.tsa.ARMA(eth, order=(3, 2))\n",
    "\n",
    "xrp_results = xrp_model.fit()\n",
    "eth_results = eth_model.fit()\n",
    "\n",
    "xrp_results.summary()\n",
    "eth_results.summary()\n"
   ]
  },
  {
   "cell_type": "markdown",
   "metadata": {},
   "source": [
    "*For solutions, see `solutions/arma_cryptocurrency.py`*"
   ]
  },
  {
   "cell_type": "markdown",
   "metadata": {},
   "source": [
    "### The ARIMA model\n",
    "\n",
    "One of the issues with the ARMA model is that it requires data to be stationary before the algorithm begins. A normal step for turning non-stationary data into stationary data is to difference the data, either once or twice. Therefore, a normal process is to difference the data and then run ARMA. A problem with this is that we have a two step methodology to describe. ARIMA captures this idea in a single model.\n",
    "\n",
    "The ARIMA model is a more general form of the ARMA model. Specifically, ARMA(p, q) is an ARIMA(p, 0, q) model. The $p$ and $q$ values are the same as the ARMA model. The middle parameter is $d$, for differencing. The ARIMA model will apply differencing to turn a non-stationary dataset into a stationary one, allowing the AR and MA processes to model them better. That's the same as our two step process above, just captured nicely. And a lot more useful.\n",
    "\n",
    "That gives the full ARIMA model as:\n",
    "\n",
    "$ARIMA(p, d, q)$\n",
    "\n",
    "where $p$ is the lag in the autoregressive model and $q$ is the lag in the moving-average model, and $d$ is the order of differencing applied (i.e. how many times to difference the data to get a stationary series).\n",
    "\n",
    "The ARIMA model can also be identified by having components \"turned off\", i.e. set to zero. We saw above that ARIMA(p, 0, q) is simply the ARMA(p, q) model. Further, ARIMA(0, 0, q) is simply MA(q). ARIMA(0, 1, 1) is IMA(1, 1), although that is more obscure than other variants you'll see."
   ]
  },
  {
   "cell_type": "markdown",
   "metadata": {},
   "source": [
    "#### Exercise\n",
    "\n",
    "1. What can the ARIMA(1, 0, 0) model also be known as?\n",
    "2. What does an ARIMA(0, 0, 0) model actually model? Hint: use the ARMA equation, and set p and q to zero.\n",
    "3. What does an ARIMA(0, 1, 0) model represent - i.e. what other term have we seen that refers to the same idea?"
   ]
  },
  {
   "cell_type": "code",
   "execution_count": null,
   "metadata": {},
   "outputs": [],
   "source": [
    "\n",
    "# ARIMA(1, 0, 0) is AR(1)\n",
    "# ARIMA(0, 0, 0) is just the mean (with an error term)\n",
    "# ARIMA(0, 1, 0) is I(1), an autoregressive model\n"
   ]
  },
  {
   "cell_type": "markdown",
   "metadata": {},
   "source": [
    "*For solutions, see `solutions/arima_types.py`*"
   ]
  },
  {
   "cell_type": "markdown",
   "metadata": {},
   "source": [
    "#### Extended Exercise\n",
    "\n",
    "The ARIMA model is implemented in statsmodels under `statsmodels.tsa.arima_model.ARIMA` with a similar use case to the `ARMA` model previously used. Perform an ARIMA modelling on the cryptocurrency data from the previous exercise.\n",
    "\n",
    "Normally, the value for $d$ is determined before running the model, but performing a test of stationarity. See Module 1.6.2 for information on performing these tests. Simply difference the data, check for stationarity, and if it isn't, difference it again. Values more than 3 are abnormal - if you still aren't getting stationary data at that point, check your assumptions."
   ]
  },
  {
   "cell_type": "code",
   "execution_count": 2,
   "metadata": {},
   "outputs": [
    {
     "name": "stdout",
     "output_type": "stream",
     "text": [
      "XRP p_value: 0.010956773035143289\n",
      "ETH p_value: 0.01\n"
     ]
    },
    {
     "name": "stderr",
     "output_type": "stream",
     "text": [
      "C:\\Users\\HP\\Anaconda3\\envs\\finance\\lib\\site-packages\\statsmodels\\tsa\\stattools.py:1661: FutureWarning: The behavior of using lags=None will change in the next release. Currently lags=None is the same as lags='legacy', and so a sample-size lag length is used. After the next release, the default will change to be the same as lags='auto' which uses an automatic lag length selection method. To silence this warning, either use 'auto' or 'legacy'\n",
      "  warn(msg, FutureWarning)\n",
      "C:\\Users\\HP\\Anaconda3\\envs\\finance\\lib\\site-packages\\statsmodels\\tsa\\stattools.py:1685: InterpolationWarning: p-value is smaller than the indicated p-value\n",
      "  warn(\"p-value is smaller than the indicated p-value\", InterpolationWarning)\n"
     ]
    }
   ],
   "source": [
    "# Use KPSS to test for stationarity.\n",
    "from statsmodels.tsa.stattools import kpss\n",
    "\n",
    "kpss_stat, p_value, lags, crit = kpss(xrp)\n",
    "print(\"XRP p_value:\", p_value)\n",
    "\n",
    "kpss_stat, p_value, lags, crit = kpss(eth)\n",
    "print(\"ETH p_value:\", p_value)\n",
    "\n"
   ]
  },
  {
   "cell_type": "code",
   "execution_count": 5,
   "metadata": {},
   "outputs": [
    {
     "name": "stderr",
     "output_type": "stream",
     "text": [
      "C:\\Users\\HP\\Anaconda3\\envs\\finance\\lib\\site-packages\\statsmodels\\tsa\\base\\tsa_model.py:218: ValueWarning: A date index has been provided, but it has no associated frequency information and so will be ignored when e.g. forecasting.\n",
      "  ' ignored when e.g. forecasting.', ValueWarning)\n",
      "C:\\Users\\HP\\Anaconda3\\envs\\finance\\lib\\site-packages\\statsmodels\\tsa\\base\\tsa_model.py:218: ValueWarning: A date index has been provided, but it has no associated frequency information and so will be ignored when e.g. forecasting.\n",
      "  ' ignored when e.g. forecasting.', ValueWarning)\n",
      "C:\\Users\\HP\\Anaconda3\\envs\\finance\\lib\\site-packages\\statsmodels\\tsa\\base\\tsa_model.py:218: ValueWarning: A date index has been provided, but it has no associated frequency information and so will be ignored when e.g. forecasting.\n",
      "  ' ignored when e.g. forecasting.', ValueWarning)\n"
     ]
    },
    {
     "data": {
      "text/html": [
       "<table class=\"simpletable\">\n",
       "<caption>ARMA Model Results</caption>\n",
       "<tr>\n",
       "  <th>Dep. Variable:</th>       <td>Last</td>       <th>  No. Observations:  </th>   <td>1455</td>   \n",
       "</tr>\n",
       "<tr>\n",
       "  <th>Model:</th>            <td>ARMA(3, 1)</td>    <th>  Log Likelihood     </th> <td>-6538.979</td>\n",
       "</tr>\n",
       "<tr>\n",
       "  <th>Method:</th>             <td>css-mle</td>     <th>  S.D. of innovations</th>  <td>21.619</td>  \n",
       "</tr>\n",
       "<tr>\n",
       "  <th>Date:</th>          <td>Fri, 17 Apr 2020</td> <th>  AIC                </th> <td>13089.958</td>\n",
       "</tr>\n",
       "<tr>\n",
       "  <th>Time:</th>              <td>16:11:43</td>     <th>  BIC                </th> <td>13121.655</td>\n",
       "</tr>\n",
       "<tr>\n",
       "  <th>Sample:</th>                <td>0</td>        <th>  HQIC               </th> <td>13101.784</td>\n",
       "</tr>\n",
       "<tr>\n",
       "  <th></th>                       <td> </td>        <th>                     </th>     <td> </td>    \n",
       "</tr>\n",
       "</table>\n",
       "<table class=\"simpletable\">\n",
       "<tr>\n",
       "       <td></td>         <th>coef</th>     <th>std err</th>      <th>z</th>      <th>P>|z|</th>  <th>[0.025</th>    <th>0.975]</th>  \n",
       "</tr>\n",
       "<tr>\n",
       "  <th>const</th>      <td>  200.2340</td> <td>  109.676</td> <td>    1.826</td> <td> 0.068</td> <td>  -14.727</td> <td>  415.195</td>\n",
       "</tr>\n",
       "<tr>\n",
       "  <th>ar.L1.Last</th> <td>    0.2841</td> <td>    0.151</td> <td>    1.886</td> <td> 0.059</td> <td>   -0.011</td> <td>    0.579</td>\n",
       "</tr>\n",
       "<tr>\n",
       "  <th>ar.L2.Last</th> <td>    0.6874</td> <td>    0.169</td> <td>    4.070</td> <td> 0.000</td> <td>    0.356</td> <td>    1.018</td>\n",
       "</tr>\n",
       "<tr>\n",
       "  <th>ar.L3.Last</th> <td>    0.0204</td> <td>    0.033</td> <td>    0.618</td> <td> 0.536</td> <td>   -0.044</td> <td>    0.085</td>\n",
       "</tr>\n",
       "<tr>\n",
       "  <th>ma.L1.Last</th> <td>    0.7605</td> <td>    0.149</td> <td>    5.113</td> <td> 0.000</td> <td>    0.469</td> <td>    1.052</td>\n",
       "</tr>\n",
       "</table>\n",
       "<table class=\"simpletable\">\n",
       "<caption>Roots</caption>\n",
       "<tr>\n",
       "    <td></td>   <th>            Real</th>  <th>         Imaginary</th> <th>         Modulus</th>  <th>        Frequency</th>\n",
       "</tr>\n",
       "<tr>\n",
       "  <th>AR.1</th> <td>           1.0047</td> <td>          +0.0000j</td> <td>           1.0047</td> <td>           0.0000</td>\n",
       "</tr>\n",
       "<tr>\n",
       "  <th>AR.2</th> <td>          -1.4681</td> <td>          +0.0000j</td> <td>           1.4681</td> <td>           0.5000</td>\n",
       "</tr>\n",
       "<tr>\n",
       "  <th>AR.3</th> <td>         -33.2309</td> <td>          +0.0000j</td> <td>          33.2309</td> <td>           0.5000</td>\n",
       "</tr>\n",
       "<tr>\n",
       "  <th>MA.1</th> <td>          -1.3149</td> <td>          +0.0000j</td> <td>           1.3149</td> <td>           0.5000</td>\n",
       "</tr>\n",
       "</table>"
      ],
      "text/plain": [
       "<class 'statsmodels.iolib.summary.Summary'>\n",
       "\"\"\"\n",
       "                              ARMA Model Results                              \n",
       "==============================================================================\n",
       "Dep. Variable:                   Last   No. Observations:                 1455\n",
       "Model:                     ARMA(3, 1)   Log Likelihood               -6538.979\n",
       "Method:                       css-mle   S.D. of innovations             21.619\n",
       "Date:                Fri, 17 Apr 2020   AIC                          13089.958\n",
       "Time:                        16:11:43   BIC                          13121.655\n",
       "Sample:                             0   HQIC                         13101.784\n",
       "                                                                              \n",
       "==============================================================================\n",
       "                 coef    std err          z      P>|z|      [0.025      0.975]\n",
       "------------------------------------------------------------------------------\n",
       "const        200.2340    109.676      1.826      0.068     -14.727     415.195\n",
       "ar.L1.Last     0.2841      0.151      1.886      0.059      -0.011       0.579\n",
       "ar.L2.Last     0.6874      0.169      4.070      0.000       0.356       1.018\n",
       "ar.L3.Last     0.0204      0.033      0.618      0.536      -0.044       0.085\n",
       "ma.L1.Last     0.7605      0.149      5.113      0.000       0.469       1.052\n",
       "                                    Roots                                    \n",
       "=============================================================================\n",
       "                  Real          Imaginary           Modulus         Frequency\n",
       "-----------------------------------------------------------------------------\n",
       "AR.1            1.0047           +0.0000j            1.0047            0.0000\n",
       "AR.2           -1.4681           +0.0000j            1.4681            0.5000\n",
       "AR.3          -33.2309           +0.0000j           33.2309            0.5000\n",
       "MA.1           -1.3149           +0.0000j            1.3149            0.5000\n",
       "-----------------------------------------------------------------------------\n",
       "\"\"\""
      ]
     },
     "execution_count": 5,
     "metadata": {},
     "output_type": "execute_result"
    }
   ],
   "source": [
    "\n",
    "from statsmodels.tsa.arima_model import ARIMA as arima\n",
    "\n",
    "xrp_model_arima = arima(xrp, order=(4,1, 2))  #Remember if we use d=0 we're back to using the ARMA model!\n",
    "eth_model_arima = sms.tsa.ARMA(eth, order=(3, 1, 2))\n",
    "\n",
    "xrp_results_arima = xrp_model_arima.fit()\n",
    "eth_results_arima = eth_model_arima.fit()\n",
    "\n",
    "xrp_results_arima.summary()\n",
    "eth_results_arima.summary()\n"
   ]
  },
  {
   "cell_type": "markdown",
   "metadata": {},
   "source": [
    "*For solutions, see `solutions/arima_cryptocurrency.py`*"
   ]
  },
  {
   "cell_type": "markdown",
   "metadata": {},
   "source": [
    "### Choosing parameters\n",
    "\n",
    "When choosing parameters for the ARIMA model, the normal rule of thumb is \"keep them small\". Robert Nau summarised this as:\n",
    "\n",
    "<i>In most cases either p is zero or q is zero, and p+q is less than or equal to 3, so there aren’t very many terms on the right-hand-side of this equation</i>\n",
    "\n",
    "<small>See https://people.duke.edu/~rnau/Notes_on_nonseasonal_ARIMA_models--Robert_Nau.pdf</small>\n",
    "\n",
    "Galit Shmueli has some further insight into this problem in her video on YouTube: https://www.youtube.com/watch?v=0xHf-SJ9Z9U\n",
    "\n",
    "When performing a grid search (in other words, \"try all combinations of these values for the parameters\") you can keep your search space small by trying 0, 1, 2 and 3 as the only options (and just 0, 1, 2 for $d$). If that model isn't sufficient, **and** you have a good theoretical reason for a different value. For seasonal change, for instance, if you suspect a yearly trend (this June's data will be dependent on last June's), then seasonal ARIMA is needed, which we will cover later in this module."
   ]
  },
  {
   "cell_type": "code",
   "execution_count": 6,
   "metadata": {},
   "outputs": [],
   "source": [
    "import quandl\n",
    "from statsmodels import api as sms"
   ]
  },
  {
   "cell_type": "code",
   "execution_count": 7,
   "metadata": {},
   "outputs": [],
   "source": [
    "employment = quandl.get(\"FRED/NROUST\").diff().dropna()"
   ]
  },
  {
   "cell_type": "code",
   "execution_count": 9,
   "metadata": {},
   "outputs": [],
   "source": [
    "changes = employment.diff().dropna()"
   ]
  },
  {
   "cell_type": "code",
   "execution_count": 10,
   "metadata": {},
   "outputs": [],
   "source": [
    "from statsmodels.tsa.arima_model import ARIMA"
   ]
  },
  {
   "cell_type": "code",
   "execution_count": 11,
   "metadata": {},
   "outputs": [
    {
     "name": "stderr",
     "output_type": "stream",
     "text": [
      "C:\\Users\\HP\\Anaconda3\\envs\\finance\\lib\\site-packages\\statsmodels\\tsa\\base\\tsa_model.py:162: ValueWarning: No frequency information was provided, so inferred frequency QS-OCT will be used.\n",
      "  % freq, ValueWarning)\n",
      "C:\\Users\\HP\\Anaconda3\\envs\\finance\\lib\\site-packages\\statsmodels\\tsa\\base\\tsa_model.py:162: ValueWarning: No frequency information was provided, so inferred frequency QS-OCT will be used.\n",
      "  % freq, ValueWarning)\n"
     ]
    }
   ],
   "source": [
    "model = ARIMA(changes, order=(1, 1, 1))"
   ]
  },
  {
   "cell_type": "code",
   "execution_count": 12,
   "metadata": {},
   "outputs": [],
   "source": [
    "results = model.fit()"
   ]
  },
  {
   "cell_type": "code",
   "execution_count": 13,
   "metadata": {},
   "outputs": [
    {
     "data": {
      "text/html": [
       "<table class=\"simpletable\">\n",
       "<caption>ARIMA Model Results</caption>\n",
       "<tr>\n",
       "  <th>Dep. Variable:</th>      <td>D.Value</td>     <th>  No. Observations:  </th>    <td>325</td>   \n",
       "</tr>\n",
       "<tr>\n",
       "  <th>Model:</th>          <td>ARIMA(1, 1, 1)</td>  <th>  Log Likelihood     </th> <td>1003.687</td> \n",
       "</tr>\n",
       "<tr>\n",
       "  <th>Method:</th>             <td>css-mle</td>     <th>  S.D. of innovations</th>   <td>0.011</td>  \n",
       "</tr>\n",
       "<tr>\n",
       "  <th>Date:</th>          <td>Fri, 17 Apr 2020</td> <th>  AIC                </th> <td>-1999.373</td>\n",
       "</tr>\n",
       "<tr>\n",
       "  <th>Time:</th>              <td>16:18:55</td>     <th>  BIC                </th> <td>-1984.238</td>\n",
       "</tr>\n",
       "<tr>\n",
       "  <th>Sample:</th>           <td>10-01-1949</td>    <th>  HQIC               </th> <td>-1993.333</td>\n",
       "</tr>\n",
       "<tr>\n",
       "  <th></th>                 <td>- 10-01-2030</td>   <th>                     </th>     <td> </td>    \n",
       "</tr>\n",
       "</table>\n",
       "<table class=\"simpletable\">\n",
       "<tr>\n",
       "        <td></td>           <th>coef</th>     <th>std err</th>      <th>z</th>      <th>P>|z|</th>  <th>[0.025</th>    <th>0.975]</th>  \n",
       "</tr>\n",
       "<tr>\n",
       "  <th>const</th>         <td> 3.395e-07</td> <td> 5.38e-06</td> <td>    0.063</td> <td> 0.950</td> <td>-1.02e-05</td> <td> 1.09e-05</td>\n",
       "</tr>\n",
       "<tr>\n",
       "  <th>ar.L1.D.Value</th> <td>   -0.1968</td> <td>    0.054</td> <td>   -3.621</td> <td> 0.000</td> <td>   -0.303</td> <td>   -0.090</td>\n",
       "</tr>\n",
       "<tr>\n",
       "  <th>ma.L1.D.Value</th> <td>   -1.0000</td> <td>    0.008</td> <td> -123.558</td> <td> 0.000</td> <td>   -1.016</td> <td>   -0.984</td>\n",
       "</tr>\n",
       "</table>\n",
       "<table class=\"simpletable\">\n",
       "<caption>Roots</caption>\n",
       "<tr>\n",
       "    <td></td>   <th>            Real</th>  <th>         Imaginary</th> <th>         Modulus</th>  <th>        Frequency</th>\n",
       "</tr>\n",
       "<tr>\n",
       "  <th>AR.1</th> <td>          -5.0808</td> <td>          +0.0000j</td> <td>           5.0808</td> <td>           0.5000</td>\n",
       "</tr>\n",
       "<tr>\n",
       "  <th>MA.1</th> <td>           1.0000</td> <td>          +0.0000j</td> <td>           1.0000</td> <td>           0.0000</td>\n",
       "</tr>\n",
       "</table>"
      ],
      "text/plain": [
       "<class 'statsmodels.iolib.summary.Summary'>\n",
       "\"\"\"\n",
       "                             ARIMA Model Results                              \n",
       "==============================================================================\n",
       "Dep. Variable:                D.Value   No. Observations:                  325\n",
       "Model:                 ARIMA(1, 1, 1)   Log Likelihood                1003.687\n",
       "Method:                       css-mle   S.D. of innovations              0.011\n",
       "Date:                Fri, 17 Apr 2020   AIC                          -1999.373\n",
       "Time:                        16:18:55   BIC                          -1984.238\n",
       "Sample:                    10-01-1949   HQIC                         -1993.333\n",
       "                         - 10-01-2030                                         \n",
       "=================================================================================\n",
       "                    coef    std err          z      P>|z|      [0.025      0.975]\n",
       "---------------------------------------------------------------------------------\n",
       "const          3.395e-07   5.38e-06      0.063      0.950   -1.02e-05    1.09e-05\n",
       "ar.L1.D.Value    -0.1968      0.054     -3.621      0.000      -0.303      -0.090\n",
       "ma.L1.D.Value    -1.0000      0.008   -123.558      0.000      -1.016      -0.984\n",
       "                                    Roots                                    \n",
       "=============================================================================\n",
       "                  Real          Imaginary           Modulus         Frequency\n",
       "-----------------------------------------------------------------------------\n",
       "AR.1           -5.0808           +0.0000j            5.0808            0.5000\n",
       "MA.1            1.0000           +0.0000j            1.0000            0.0000\n",
       "-----------------------------------------------------------------------------\n",
       "\"\"\""
      ]
     },
     "execution_count": 13,
     "metadata": {},
     "output_type": "execute_result"
    }
   ],
   "source": [
    "results.summary()"
   ]
  },
  {
   "cell_type": "markdown",
   "metadata": {},
   "source": [
    "#### Exercise\n",
    "\n",
    "Play around with the values for order and test out several types. How does the summary results change? What extra variables are added? How are they added, for instance, when you set $p=2$?"
   ]
  },
  {
   "cell_type": "markdown",
   "metadata": {},
   "source": [
    "Note: There are no solutions for this exercise - just try different values and examine the result."
   ]
  },
  {
   "cell_type": "markdown",
   "metadata": {},
   "source": [
    "### Testing your ARIMA model\n",
    "\n",
    "With your ARIMA model, you can test the residuals of the model to confirm they are white noise, or whether there is an additional correlation in the residuals that needs to be modelled. The Ljung-Box tests the following hypotheses:\n",
    "\n",
    "$H_0$: The data are independently distributed\n",
    "\n",
    "$H_A$: The data is not independently distributed, that is that they have a serial correlation.\n",
    "\n",
    "Such a serial correlation indicates that the ARIMA model hasn't done its job well, indicative of a bad choice of parameters for $p$ and $q$, mainly $q$.\n",
    "\n",
    "The test itself is:\n",
    "\n",
    "$Q = n(n + 2)\\sum_{k=1}^{h}\\frac{p^2}{n-k}$\n",
    "\n",
    "Where $n$ is the size of the dataset, $h$ is the number of lags being tested"
   ]
  },
  {
   "cell_type": "code",
   "execution_count": 14,
   "metadata": {},
   "outputs": [],
   "source": [
    "from statsmodels.stats.diagnostic import acorr_ljungbox"
   ]
  },
  {
   "cell_type": "code",
   "execution_count": 18,
   "metadata": {},
   "outputs": [
    {
     "data": {
      "text/plain": [
       "Date\n",
       "1949-10-01    1.894446e-05\n",
       "1950-01-01    2.438002e-05\n",
       "1950-04-01    1.648034e-05\n",
       "1950-07-01   -6.120554e-07\n",
       "1950-10-01   -3.224922e-05\n",
       "                  ...     \n",
       "2029-10-01   -2.597063e-05\n",
       "2030-01-01   -8.737605e-06\n",
       "2030-04-01    8.354022e-07\n",
       "2030-07-01    8.804195e-06\n",
       "2030-10-01    1.174845e-05\n",
       "Length: 325, dtype: float64"
      ]
     },
     "execution_count": 18,
     "metadata": {},
     "output_type": "execute_result"
    }
   ],
   "source": [
    "results.resid"
   ]
  },
  {
   "cell_type": "code",
   "execution_count": 15,
   "metadata": {},
   "outputs": [
    {
     "name": "stderr",
     "output_type": "stream",
     "text": [
      "C:\\Users\\HP\\Anaconda3\\envs\\finance\\lib\\site-packages\\statsmodels\\stats\\diagnostic.py:496: FutureWarning: The default value of lags is changing.  After 0.12, this value will become min(10, nobs//5). Directly setlags to silence this warning.\n",
      "  \"lags to silence this warning.\", FutureWarning)\n",
      "C:\\Users\\HP\\Anaconda3\\envs\\finance\\lib\\site-packages\\statsmodels\\stats\\diagnostic.py:524: FutureWarning: The value returned will change to a single DataFrame after 0.12 is released.  Set return_df to True to use to return a DataFrame now.  Set return_df to False to silence this warning.\n",
      "  warnings.warn(msg, FutureWarning)\n"
     ]
    }
   ],
   "source": [
    "test_statistics, p_values = acorr_ljungbox(results.resid)"
   ]
  },
  {
   "cell_type": "code",
   "execution_count": 16,
   "metadata": {},
   "outputs": [
    {
     "data": {
      "text/plain": [
       "array([ True,  True, False, False, False, False, False, False, False,\n",
       "       False, False, False, False, False, False, False, False, False,\n",
       "       False, False, False, False, False, False, False, False, False,\n",
       "       False, False, False, False, False, False, False, False, False,\n",
       "       False, False, False, False])"
      ]
     },
     "execution_count": 16,
     "metadata": {},
     "output_type": "execute_result"
    }
   ],
   "source": [
    "p_values > 0.05"
   ]
  },
  {
   "cell_type": "markdown",
   "metadata": {},
   "source": [
    "#### Exercise\n",
    "\n",
    "Review carefully these results, compared against the hypothesis stated for the Ljung-Box test. What are the results saying?\n",
    "\n",
    "Hint: for documentation on the function itself, see https://www.statsmodels.org/stable/generated/statsmodels.stats.diagnostic.acorr_ljungbox.html"
   ]
  },
  {
   "cell_type": "code",
   "execution_count": 19,
   "metadata": {},
   "outputs": [],
   "source": [
    "\n",
    "# We reject that the data is independently distributed for lags of 1 and 2, giving evidence for H_A\n",
    "# that there is a serial correlation for these two lag periods.\n"
   ]
  },
  {
   "cell_type": "markdown",
   "metadata": {},
   "source": [
    "*For solutions, see `solutions/ljungbox.py`*"
   ]
  },
  {
   "cell_type": "markdown",
   "metadata": {},
   "source": [
    "### Prediction with ARIMA\n",
    "\n",
    "ARIMA models can be used for predicting future values. \n",
    "The prediction confidence interval from an ARIMA model will be wider for data with a higher volatility.\n",
    "\n",
    "An ARIMA model is often harder to analyse than a simple Linear Regression model. For this reason, analysis of the fitted parameters (and meta-parameters, internal states of the model) are not often performed to understand \"why\" the model fit the way it did. Compare this to Linear Regression models, where we can interpret the $\\beta$ values to understand why the model fit the way it did."
   ]
  },
  {
   "cell_type": "code",
   "execution_count": 20,
   "metadata": {},
   "outputs": [
    {
     "data": {
      "text/html": [
       "<div>\n",
       "<style scoped>\n",
       "    .dataframe tbody tr th:only-of-type {\n",
       "        vertical-align: middle;\n",
       "    }\n",
       "\n",
       "    .dataframe tbody tr th {\n",
       "        vertical-align: top;\n",
       "    }\n",
       "\n",
       "    .dataframe thead th {\n",
       "        text-align: right;\n",
       "    }\n",
       "</style>\n",
       "<table border=\"1\" class=\"dataframe\">\n",
       "  <thead>\n",
       "    <tr style=\"text-align: right;\">\n",
       "      <th></th>\n",
       "      <th>Value</th>\n",
       "    </tr>\n",
       "    <tr>\n",
       "      <th>Date</th>\n",
       "      <th></th>\n",
       "    </tr>\n",
       "  </thead>\n",
       "  <tbody>\n",
       "    <tr>\n",
       "      <th>2029-10-01</th>\n",
       "      <td>-0.000007</td>\n",
       "    </tr>\n",
       "    <tr>\n",
       "      <th>2030-01-01</th>\n",
       "      <td>0.000008</td>\n",
       "    </tr>\n",
       "    <tr>\n",
       "      <th>2030-04-01</th>\n",
       "      <td>0.000015</td>\n",
       "    </tr>\n",
       "    <tr>\n",
       "      <th>2030-07-01</th>\n",
       "      <td>0.000022</td>\n",
       "    </tr>\n",
       "    <tr>\n",
       "      <th>2030-10-01</th>\n",
       "      <td>0.000024</td>\n",
       "    </tr>\n",
       "  </tbody>\n",
       "</table>\n",
       "</div>"
      ],
      "text/plain": [
       "               Value\n",
       "Date                \n",
       "2029-10-01 -0.000007\n",
       "2030-01-01  0.000008\n",
       "2030-04-01  0.000015\n",
       "2030-07-01  0.000022\n",
       "2030-10-01  0.000024"
      ]
     },
     "execution_count": 20,
     "metadata": {},
     "output_type": "execute_result"
    }
   ],
   "source": [
    "changes.tail()"
   ]
  },
  {
   "cell_type": "code",
   "execution_count": 21,
   "metadata": {},
   "outputs": [
    {
     "data": {
      "text/html": [
       "<div>\n",
       "<style scoped>\n",
       "    .dataframe tbody tr th:only-of-type {\n",
       "        vertical-align: middle;\n",
       "    }\n",
       "\n",
       "    .dataframe tbody tr th {\n",
       "        vertical-align: top;\n",
       "    }\n",
       "\n",
       "    .dataframe thead th {\n",
       "        text-align: right;\n",
       "    }\n",
       "</style>\n",
       "<table border=\"1\" class=\"dataframe\">\n",
       "  <thead>\n",
       "    <tr style=\"text-align: right;\">\n",
       "      <th></th>\n",
       "      <th>Value</th>\n",
       "    </tr>\n",
       "    <tr>\n",
       "      <th>Date</th>\n",
       "      <th></th>\n",
       "    </tr>\n",
       "  </thead>\n",
       "  <tbody>\n",
       "    <tr>\n",
       "      <th>2000-01-01</th>\n",
       "      <td>-0.000088</td>\n",
       "    </tr>\n",
       "    <tr>\n",
       "      <th>2000-04-01</th>\n",
       "      <td>-0.000089</td>\n",
       "    </tr>\n",
       "    <tr>\n",
       "      <th>2000-07-01</th>\n",
       "      <td>-0.000085</td>\n",
       "    </tr>\n",
       "    <tr>\n",
       "      <th>2000-10-01</th>\n",
       "      <td>-0.000069</td>\n",
       "    </tr>\n",
       "  </tbody>\n",
       "</table>\n",
       "</div>"
      ],
      "text/plain": [
       "               Value\n",
       "Date                \n",
       "2000-01-01 -0.000088\n",
       "2000-04-01 -0.000089\n",
       "2000-07-01 -0.000085\n",
       "2000-10-01 -0.000069"
      ]
     },
     "execution_count": 21,
     "metadata": {},
     "output_type": "execute_result"
    }
   ],
   "source": [
    "changes[\"2000\"]"
   ]
  },
  {
   "cell_type": "code",
   "execution_count": 24,
   "metadata": {},
   "outputs": [],
   "source": [
    "# Predict values within the sample\n",
    "from datetime import datetime\n",
    "\n",
    "start_date = datetime(2000, 1, 1)\n",
    "end_date = datetime(2001, 10, 1)\n",
    "\n",
    "y_pred = results.predict(start_date, end_date)\n",
    "y_pred.name = \"Predictions\""
   ]
  },
  {
   "cell_type": "code",
   "execution_count": 27,
   "metadata": {},
   "outputs": [],
   "source": [
    "%run setup.ipy"
   ]
  },
  {
   "cell_type": "code",
   "execution_count": 25,
   "metadata": {},
   "outputs": [
    {
     "data": {
      "image/png": "[encoded data removed]",
      "text/plain": [
       "<Figure size 432x288 with 1 Axes>"
      ]
     },
     "metadata": {
      "needs_background": "light"
     },
     "output_type": "display_data"
    },
    {
     "data": {
      "image/png": "[encoded data removed]",
      "text/plain": [
       "<Figure size 432x288 with 1 Axes>"
      ]
     },
     "metadata": {
      "needs_background": "light"
     },
     "output_type": "display_data"
    }
   ],
   "source": [
    "y_pred.plot(title=\"Predictions\")\n",
    "changes[start_date:end_date].plot(title=\"Actual\");"
   ]
  },
  {
   "cell_type": "code",
   "execution_count": 26,
   "metadata": {},
   "outputs": [],
   "source": [
    "# Perform out-of-sample prediction of data past the end of the data we have\n",
    "y_new = results.forecast(steps=10)  # You can also use the predict method with a start/end date in the future:\n",
    "# y_new = results.predict(len(changes), end=len(changes)+10, dynamic=True)"
   ]
  },
  {
   "cell_type": "code",
   "execution_count": 31,
   "metadata": {},
   "outputs": [],
   "source": [
    "results.forecast?"
   ]
  },
  {
   "cell_type": "code",
   "execution_count": 27,
   "metadata": {},
   "outputs": [
    {
     "data": {
      "text/plain": [
       "[<matplotlib.lines.Line2D at 0x19c34a82d88>]"
      ]
     },
     "execution_count": 27,
     "metadata": {},
     "output_type": "execute_result"
    },
    {
     "data": {
      "image/png": "[encoded data removed]",
      "text/plain": [
       "<Figure size 432x288 with 1 Axes>"
      ]
     },
     "metadata": {
      "needs_background": "light"
     },
     "output_type": "display_data"
    }
   ],
   "source": [
    "plt.plot(y_new[0])"
   ]
  },
  {
   "cell_type": "markdown",
   "metadata": {},
   "source": [
    "#### Exercise\n",
    "\n",
    "Compute the SSE value on the predicted values from 2015 onwards. Remember to retrain your model after doing a train/test split before you evaluate!"
   ]
  },
  {
   "cell_type": "code",
   "execution_count": 28,
   "metadata": {},
   "outputs": [
    {
     "name": "stderr",
     "output_type": "stream",
     "text": [
      "C:\\Users\\HP\\Anaconda3\\envs\\finance\\lib\\site-packages\\statsmodels\\tsa\\base\\tsa_model.py:162: ValueWarning: No frequency information was provided, so inferred frequency QS-OCT will be used.\n",
      "  % freq, ValueWarning)\n"
     ]
    },
    {
     "data": {
      "text/plain": [
       "0.00037889850461075733"
      ]
     },
     "execution_count": 28,
     "metadata": {},
     "output_type": "execute_result"
    },
    {
     "data": {
      "image/png": "[encoded data removed]",
      "text/plain": [
       "<Figure size 432x288 with 1 Axes>"
      ]
     },
     "metadata": {
      "needs_background": "light"
     },
     "output_type": "display_data"
    },
    {
     "data": {
      "image/png": "[encoded data removed]",
      "text/plain": [
       "<Figure size 432x288 with 1 Axes>"
      ]
     },
     "metadata": {
      "needs_background": "light"
     },
     "output_type": "display_data"
    }
   ],
   "source": [
    "from datetime import datetime\n",
    "\n",
    "start_date = datetime(2015, 1, 1)\n",
    "end_date = datetime(2029, 10, 1)\n",
    "\n",
    "train = changes.loc[:start_date]\n",
    "test = changes.loc[start_date:end_date]\n",
    "\n",
    "model = ARIMA(train, order=(1, 0, 2))\n",
    "results = model.fit()\n",
    "results.summary()\n",
    "\n",
    "y_pred = results.predict(start_date, end_date)\n",
    "y_pred.name = \"Predictions\"\n",
    "y_pred.plot(title=\"Predictions\")\n",
    "test.plot(title=\"Actual\")\n",
    "\n",
    "test_s = test[\"Value\"] #Convert to a series to match our predicted data\n",
    "sse = np.sum((y_pred - test_s)**2)\n",
    "\n",
    "sse\n"
   ]
  },
  {
   "cell_type": "markdown",
   "metadata": {},
   "source": [
    "*For solutions, see `solutions/arima_sse.py`*"
   ]
  },
  {
   "cell_type": "markdown",
   "metadata": {},
   "source": [
    "### Seasonal ARIMA\n",
    "\n",
    "Seasonal variations are not included by default in an ARIMA model. You can approximate this with lag periods of your season, for instance, setting $d=12$. A Seasonal ARIMA model has parameters for both the standard ARIMA model, and additional ones for the seasonality. This gives the full model as: \n",
    "\n",
    "$ARIMA(p, d, q)(P, D, Q)$\n",
    "\n",
    "Alternatively you may see this model written as $ARIMA(p, d, q)x(P, D, Q)$.\n",
    "\n",
    "Where $p$, $d$ and $q$ are as with ARIMA, and $P$, $D$, and $Q$ are the same as their lowercase version, except with a seasonal lag added in. For example,  D is seasonal lag, setting $y_t = y_t - y_{t-M}$ where $M$ is the seasonal lag period (if you have monthly data and want yearly differencing, $M=12$).\n",
    "\n",
    "As with ARIMA, and all the model we have seen so far, any of these values could be zero, effectively turning that part of the model off. Unlike non-seasonal ARIMA, we normally still refer to the model by it's full name, i.e. ARIMA(0, 0, 1)(1, 1, 0), (as opposed to, say, MASAR(1, 1) or some weird combination).\n",
    "\n",
    "In statsmodels, the name of this model is SARIMAX - Seasonal ARIMA, with eXogenous regressors (additional independent variables)."
   ]
  },
  {
   "cell_type": "code",
   "execution_count": 29,
   "metadata": {},
   "outputs": [],
   "source": [
    "from statsmodels.tsa.statespace.sarimax import SARIMAX"
   ]
  },
  {
   "cell_type": "code",
   "execution_count": 30,
   "metadata": {},
   "outputs": [
    {
     "name": "stderr",
     "output_type": "stream",
     "text": [
      "C:\\Users\\HP\\Anaconda3\\envs\\finance\\lib\\site-packages\\statsmodels\\tsa\\base\\tsa_model.py:162: ValueWarning: No frequency information was provided, so inferred frequency QS-OCT will be used.\n",
      "  % freq, ValueWarning)\n",
      "C:\\Users\\HP\\Anaconda3\\envs\\finance\\lib\\site-packages\\statsmodels\\tsa\\base\\tsa_model.py:162: ValueWarning: No frequency information was provided, so inferred frequency QS-OCT will be used.\n",
      "  % freq, ValueWarning)\n"
     ]
    }
   ],
   "source": [
    "seasonal_model = SARIMAX(changes, order=(1, 1, 1), seasonal_order=(0, 1, 0, 4))"
   ]
  },
  {
   "cell_type": "code",
   "execution_count": 31,
   "metadata": {},
   "outputs": [],
   "source": [
    "results = seasonal_model.fit()"
   ]
  },
  {
   "cell_type": "code",
   "execution_count": 32,
   "metadata": {},
   "outputs": [
    {
     "data": {
      "text/html": [
       "<table class=\"simpletable\">\n",
       "<caption>SARIMAX Results</caption>\n",
       "<tr>\n",
       "  <th>Dep. Variable:</th>                <td>Value</td>             <th>  No. Observations:  </th>    <td>326</td>   \n",
       "</tr>\n",
       "<tr>\n",
       "  <th>Model:</th>           <td>SARIMAX(1, 1, 1)x(0, 1, [], 4)</td> <th>  Log Likelihood     </th>  <td>913.308</td> \n",
       "</tr>\n",
       "<tr>\n",
       "  <th>Date:</th>                   <td>Fri, 17 Apr 2020</td>        <th>  AIC                </th> <td>-1820.617</td>\n",
       "</tr>\n",
       "<tr>\n",
       "  <th>Time:</th>                       <td>18:09:23</td>            <th>  BIC                </th> <td>-1809.303</td>\n",
       "</tr>\n",
       "<tr>\n",
       "  <th>Sample:</th>                    <td>07-01-1949</td>           <th>  HQIC               </th> <td>-1816.099</td>\n",
       "</tr>\n",
       "<tr>\n",
       "  <th></th>                          <td>- 10-01-2030</td>          <th>                     </th>     <td> </td>    \n",
       "</tr>\n",
       "<tr>\n",
       "  <th>Covariance Type:</th>               <td>opg</td>              <th>                     </th>     <td> </td>    \n",
       "</tr>\n",
       "</table>\n",
       "<table class=\"simpletable\">\n",
       "<tr>\n",
       "     <td></td>       <th>coef</th>     <th>std err</th>      <th>z</th>      <th>P>|z|</th>  <th>[0.025</th>    <th>0.975]</th>  \n",
       "</tr>\n",
       "<tr>\n",
       "  <th>ar.L1</th>  <td>   -0.3436</td> <td>    0.020</td> <td>  -17.238</td> <td> 0.000</td> <td>   -0.383</td> <td>   -0.305</td>\n",
       "</tr>\n",
       "<tr>\n",
       "  <th>ma.L1</th>  <td>   -0.9999</td> <td>    0.596</td> <td>   -1.678</td> <td> 0.093</td> <td>   -2.168</td> <td>    0.168</td>\n",
       "</tr>\n",
       "<tr>\n",
       "  <th>sigma2</th> <td>    0.0002</td> <td>    0.000</td> <td>    1.656</td> <td> 0.098</td> <td>-3.56e-05</td> <td>    0.000</td>\n",
       "</tr>\n",
       "</table>\n",
       "<table class=\"simpletable\">\n",
       "<tr>\n",
       "  <th>Ljung-Box (Q):</th>          <td>224.48</td>  <th>  Jarque-Bera (JB):  </th> <td>7279.91</td>\n",
       "</tr>\n",
       "<tr>\n",
       "  <th>Prob(Q):</th>                 <td>0.00</td>   <th>  Prob(JB):          </th>  <td>0.00</td>  \n",
       "</tr>\n",
       "<tr>\n",
       "  <th>Heteroskedasticity (H):</th> <td>9023.66</td> <th>  Skew:              </th>  <td>0.42</td>  \n",
       "</tr>\n",
       "<tr>\n",
       "  <th>Prob(H) (two-sided):</th>     <td>0.00</td>   <th>  Kurtosis:          </th>  <td>26.31</td> \n",
       "</tr>\n",
       "</table><br/><br/>Warnings:<br/>[1] Covariance matrix calculated using the outer product of gradients (complex-step)."
      ],
      "text/plain": [
       "<class 'statsmodels.iolib.summary.Summary'>\n",
       "\"\"\"\n",
       "                                     SARIMAX Results                                      \n",
       "==========================================================================================\n",
       "Dep. Variable:                              Value   No. Observations:                  326\n",
       "Model:             SARIMAX(1, 1, 1)x(0, 1, [], 4)   Log Likelihood                 913.308\n",
       "Date:                            Fri, 17 Apr 2020   AIC                          -1820.617\n",
       "Time:                                    18:09:23   BIC                          -1809.303\n",
       "Sample:                                07-01-1949   HQIC                         -1816.099\n",
       "                                     - 10-01-2030                                         \n",
       "Covariance Type:                              opg                                         \n",
       "==============================================================================\n",
       "                 coef    std err          z      P>|z|      [0.025      0.975]\n",
       "------------------------------------------------------------------------------\n",
       "ar.L1         -0.3436      0.020    -17.238      0.000      -0.383      -0.305\n",
       "ma.L1         -0.9999      0.596     -1.678      0.093      -2.168       0.168\n",
       "sigma2         0.0002      0.000      1.656      0.098   -3.56e-05       0.000\n",
       "===================================================================================\n",
       "Ljung-Box (Q):                      224.48   Jarque-Bera (JB):              7279.91\n",
       "Prob(Q):                              0.00   Prob(JB):                         0.00\n",
       "Heteroskedasticity (H):            9023.66   Skew:                             0.42\n",
       "Prob(H) (two-sided):                  0.00   Kurtosis:                        26.31\n",
       "===================================================================================\n",
       "\n",
       "Warnings:\n",
       "[1] Covariance matrix calculated using the outer product of gradients (complex-step).\n",
       "\"\"\""
      ]
     },
     "execution_count": 32,
     "metadata": {},
     "output_type": "execute_result"
    }
   ],
   "source": [
    "results.summary()"
   ]
  },
  {
   "cell_type": "markdown",
   "metadata": {},
   "source": [
    "#### Exercise\n",
    "\n",
    "1. Check the documentation for SARIMAX on the statsmodels website. This values were set in the previous code example?\n",
    "2. Choose a seasonal commodity from Quandl, such as Wheat, and apply a Seasonal ARIMA to the data."
   ]
  },
  {
   "cell_type": "code",
   "execution_count": 33,
   "metadata": {},
   "outputs": [
    {
     "name": "stderr",
     "output_type": "stream",
     "text": [
      "C:\\Users\\HP\\Anaconda3\\envs\\finance\\lib\\site-packages\\statsmodels\\tsa\\base\\tsa_model.py:162: ValueWarning: No frequency information was provided, so inferred frequency QS-OCT will be used.\n",
      "  % freq, ValueWarning)\n",
      "C:\\Users\\HP\\Anaconda3\\envs\\finance\\lib\\site-packages\\statsmodels\\tsa\\base\\tsa_model.py:162: ValueWarning: No frequency information was provided, so inferred frequency QS-OCT will be used.\n",
      "  % freq, ValueWarning)\n"
     ]
    },
    {
     "data": {
      "text/html": [
       "<table class=\"simpletable\">\n",
       "<caption>SARIMAX Results</caption>\n",
       "<tr>\n",
       "  <th>Dep. Variable:</th>                <td>Value</td>              <th>  No. Observations:  </th>    <td>326</td>   \n",
       "</tr>\n",
       "<tr>\n",
       "  <th>Model:</th>           <td>SARIMAX(1, 1, 1)x(0, 1, [], 12)</td> <th>  Log Likelihood     </th>  <td>836.464</td> \n",
       "</tr>\n",
       "<tr>\n",
       "  <th>Date:</th>                   <td>Fri, 17 Apr 2020</td>         <th>  AIC                </th> <td>-1666.927</td>\n",
       "</tr>\n",
       "<tr>\n",
       "  <th>Time:</th>                       <td>18:10:18</td>             <th>  BIC                </th> <td>-1655.689</td>\n",
       "</tr>\n",
       "<tr>\n",
       "  <th>Sample:</th>                    <td>07-01-1949</td>            <th>  HQIC               </th> <td>-1662.436</td>\n",
       "</tr>\n",
       "<tr>\n",
       "  <th></th>                          <td>- 10-01-2030</td>           <th>                     </th>     <td> </td>    \n",
       "</tr>\n",
       "<tr>\n",
       "  <th>Covariance Type:</th>               <td>opg</td>               <th>                     </th>     <td> </td>    \n",
       "</tr>\n",
       "</table>\n",
       "<table class=\"simpletable\">\n",
       "<tr>\n",
       "     <td></td>       <th>coef</th>     <th>std err</th>      <th>z</th>      <th>P>|z|</th>  <th>[0.025</th>    <th>0.975]</th>  \n",
       "</tr>\n",
       "<tr>\n",
       "  <th>ar.L1</th>  <td>   -0.4071</td> <td>    0.017</td> <td>  -23.829</td> <td> 0.000</td> <td>   -0.441</td> <td>   -0.374</td>\n",
       "</tr>\n",
       "<tr>\n",
       "  <th>ma.L1</th>  <td>   -0.6972</td> <td>    0.025</td> <td>  -28.372</td> <td> 0.000</td> <td>   -0.745</td> <td>   -0.649</td>\n",
       "</tr>\n",
       "<tr>\n",
       "  <th>sigma2</th> <td>    0.0003</td> <td> 6.82e-06</td> <td>   40.757</td> <td> 0.000</td> <td>    0.000</td> <td>    0.000</td>\n",
       "</tr>\n",
       "</table>\n",
       "<table class=\"simpletable\">\n",
       "<tr>\n",
       "  <th>Ljung-Box (Q):</th>          <td>273.58</td>  <th>  Jarque-Bera (JB):  </th> <td>6044.14</td>\n",
       "</tr>\n",
       "<tr>\n",
       "  <th>Prob(Q):</th>                 <td>0.00</td>   <th>  Prob(JB):          </th>  <td>0.00</td>  \n",
       "</tr>\n",
       "<tr>\n",
       "  <th>Heteroskedasticity (H):</th> <td>7673.74</td> <th>  Skew:              </th>  <td>0.33</td>  \n",
       "</tr>\n",
       "<tr>\n",
       "  <th>Prob(H) (two-sided):</th>     <td>0.00</td>   <th>  Kurtosis:          </th>  <td>24.52</td> \n",
       "</tr>\n",
       "</table><br/><br/>Warnings:<br/>[1] Covariance matrix calculated using the outer product of gradients (complex-step)."
      ],
      "text/plain": [
       "<class 'statsmodels.iolib.summary.Summary'>\n",
       "\"\"\"\n",
       "                                      SARIMAX Results                                      \n",
       "===========================================================================================\n",
       "Dep. Variable:                               Value   No. Observations:                  326\n",
       "Model:             SARIMAX(1, 1, 1)x(0, 1, [], 12)   Log Likelihood                 836.464\n",
       "Date:                             Fri, 17 Apr 2020   AIC                          -1666.927\n",
       "Time:                                     18:10:18   BIC                          -1655.689\n",
       "Sample:                                 07-01-1949   HQIC                         -1662.436\n",
       "                                      - 10-01-2030                                         \n",
       "Covariance Type:                               opg                                         \n",
       "==============================================================================\n",
       "                 coef    std err          z      P>|z|      [0.025      0.975]\n",
       "------------------------------------------------------------------------------\n",
       "ar.L1         -0.4071      0.017    -23.829      0.000      -0.441      -0.374\n",
       "ma.L1         -0.6972      0.025    -28.372      0.000      -0.745      -0.649\n",
       "sigma2         0.0003   6.82e-06     40.757      0.000       0.000       0.000\n",
       "===================================================================================\n",
       "Ljung-Box (Q):                      273.58   Jarque-Bera (JB):              6044.14\n",
       "Prob(Q):                              0.00   Prob(JB):                         0.00\n",
       "Heteroskedasticity (H):            7673.74   Skew:                             0.33\n",
       "Prob(H) (two-sided):                  0.00   Kurtosis:                        24.52\n",
       "===================================================================================\n",
       "\n",
       "Warnings:\n",
       "[1] Covariance matrix calculated using the outer product of gradients (complex-step).\n",
       "\"\"\""
      ]
     },
     "execution_count": 33,
     "metadata": {},
     "output_type": "execute_result"
    }
   ],
   "source": [
    "#1. In the above example we have specified a seasonal ARMIMA model of 0, 1, 0 (P,Q,Q) with a period of 4, since \n",
    "#    we are using quarterly data.\n",
    "\n",
    "#2.\n",
    "\n",
    "wheat_price = quandl.get(\"ODA/PWHEAMT_USD\", collapse=\"monthly\")\n",
    "seasonal_model_wheat = SARIMAX(changes, order=(1, 1, 1), seasonal_order=(0, 1, 0, 12))\n",
    "result_wheat = seasonal_model_wheat.fit()\n",
    "result_wheat.summary()\n"
   ]
  },
  {
   "cell_type": "markdown",
   "metadata": {},
   "source": [
    "*For solutions see `solutions/arima_seasonal.py`*"
   ]
  },
  {
   "cell_type": "markdown",
   "metadata": {},
   "source": [
    "#### Extended Exercise Automating parameter selection\n",
    "\n",
    "As we saw above, choosing parameters for ARIMA is a fairly straight-forward process, using AIC to choose the best from a subset of features. This process is easily automatable, and has been automated in a few libraries. In the R programming language, the ARIMA implementation already includes it, while it is a separate module for statsmodels in Python. You can get the code from https://github.com/tgsmith61591/pmdarima\n",
    "\n",
    "Install the package on your system and run on the data you received for the exercises in this module (cryptocurrency and seasonal commodity). What parameters does it choose, and how effective was the algorithm?\n",
    "\n",
    "As a warning, automated parameter selection is basically a brute force selection. Generally it composes the following steps:\n",
    "\n",
    "1. Try all parameter combinations from those given\n",
    "2. Evaluate all of them using some metric\n",
    "3. Choose the best one.\n",
    "\n",
    "Some algorithms exist separately to optimise and improve this process by being a bit more clever about their search, but these options are not available in `pmdarima`.\n",
    "\n",
    "Further, the documenation for this library also contains additional information on choosing parameter bounds that is worth reading for a more complete picture of ARIMA."
   ]
  }
 ],
 "metadata": {
  "kernelspec": {
   "display_name": "Python 3",
   "language": "python",
   "name": "python3"
  },
  "language_info": {
   "codemirror_mode": {
    "name": "ipython",
    "version": 3
   },
   "file_extension": ".py",
   "mimetype": "text/x-python",
   "name": "python",
   "nbconvert_exporter": "python",
   "pygments_lexer": "ipython3",
   "version": "3.7.7"
  }
 },
 "nbformat": 4,
 "nbformat_minor": 2
}
