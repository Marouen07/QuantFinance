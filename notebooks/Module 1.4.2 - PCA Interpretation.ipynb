{
 "cells": [
  {
   "cell_type": "markdown",
   "metadata": {},
   "source": [
    "# Introduction to Quantitative Finance\n",
    "\n",
    "Copyright (c) 2019 Python Charmers Pty Ltd, Australia, <https://pythoncharmers.com>. All rights reserved.\n",
    "\n",
    "<img src=\"img/python_charmers_logo.png\" width=\"300\" alt=\"Python Charmers Logo\">\n",
    "\n",
    "Published under the Creative Commons Attribution-NonCommercial 4.0 International (CC BY-NC 4.0) license. See `LICENSE.md` for details.\n",
    "\n",
    "Sponsored by Tibra Global Services, <https://tibra.com>\n",
    "\n",
    "<img src=\"img/tibra_logo.png\" width=\"300\" alt=\"Tibra Logo\">\n",
    "\n",
    "\n",
    "## Module 1.4: Principle Component Analysis (PCA)\n",
    "\n",
    "### 1.4.2 PCA Interpretation\n",
    "\n",
    "In the last notebook we introduced the Principle Component Analysis algorithm - PCA. In this notebook we will look at the algorithm in more detail, including methods for analysing the results.\n",
    "\n",
    "From a linear algebra perspective, the algorithm itself is quite straightforward:\n",
    "\n",
    "1. Normalise X to have a zero mean (`X = X - np.mean(X, axis=0)`)\n",
    "2. Calculate the covariance matrix $\\Sigma$, which is a square matrix of size `k`, the number of variables, where value $\\Sigma_{i,j}$ is the covariance of variables $i$ and $j$. Note that $\\Sigma = X'X$.\n",
    "3. Find the eigenvectors of $\\Sigma$\n",
    "\n",
    "The resulting eigenvectors will be the component and the eigenvalues of those will be the relative variance explained by the given component. If you sort the eigenvectors by their eigenvalues (highest first), you get the sorted eigenvectors, giving the sorted (by importance) principle components.\n",
    "\n",
    "To compute the transformed data, perform a dot product $XC$, where $C$ is a matrix of the first $n$ components we are interested in (which could be \"all of them\" if $n=k$)."
   ]
  },
  {
   "cell_type": "code",
   "execution_count": 1,
   "metadata": {},
   "outputs": [],
   "source": [
    "%run setup.ipy"
   ]
  },
  {
   "cell_type": "markdown",
   "metadata": {},
   "source": [
    "\n",
    "#### Exercise\n",
    "\n",
    "1. Review the documentation for the scikit-learn PCA algorithm, as well as the linked description. What does the `whiten` parameter do and when is it useful?\n",
    "\n",
    "\n",
    "#### Extended Exercise\n",
    "\n",
    "Implement the PCA algorithm as given above using only the NumPy algorithm.\n",
    "\n",
    "**Hint:** The `np.linalg.eig` function can be used for computing the eigenvectors and eigenvalues, although they won't be sorted correctly.\n",
    "\n",
    "\n"
   ]
  },
  {
   "cell_type": "code",
   "execution_count": 2,
   "metadata": {},
   "outputs": [],
   "source": [
    "# Solution to extended exercise, \n",
    "# based on https://medium.com/100-days-of-algorithms/day-92-pca-bdb66840a8fb\n",
    "\n",
    "def PCA(X, n_components):\n",
    "    # normalize to zero mean\n",
    "    mu = X.mean(axis=0)\n",
    "    X = X - mu\n",
    "    \n",
    "    # eigenvectors of covariance matrix\n",
    "    sigma = X.T @ X\n",
    "    eigvals, eigvecs = np.linalg.eig(sigma)\n",
    "    \n",
    "    # principal components\n",
    "    order = np.argsort(eigvals)[::-1]\n",
    "    components = eigvecs[:, order[:n_components]]\n",
    "    \n",
    "    # projection\n",
    "    Z = X @ components\n",
    "    \n",
    "    # result\n",
    "    return Z, components\n"
   ]
  },
  {
   "cell_type": "markdown",
   "metadata": {},
   "source": [
    "*For solutions, see `solutions/pca_numpy.py`*"
   ]
  },
  {
   "cell_type": "markdown",
   "metadata": {},
   "source": [
    "### Eigenvectors and Eigenvalues\n",
    "\n",
    "Eigenvectors are an area of linear algebra that often causes lots of confusion. You *can* simply use PCA without knowing what they are. They are used within the algorithm, but the values that you normally use are the transformed dataset $X$, rather than the eigenvectors and eigenvalues themselves.\n",
    "\n",
    "However, an intuitive understanding of Eigenvectors can often help. To help with this, the following video on YouTube has the incredibly clear explanation and useful visualisations:\n",
    "\n",
    "<iframe width=\"560\" height=\"315\" src=\"https://www.youtube.com/embed/PFDu9oVAE-g\" frameborder=\"0\" allow=\"accelerometer; autoplay; encrypted-media; gyroscope; picture-in-picture\" allowfullscreen>\n",
    "</iframe>\n",
    "\n",
    "(If that doesn't load, which can happen due to security settings, click this link: https://www.youtube.com/watch?v=PFDu9oVAE-g )\n",
    "\n",
    "Usefully, the above video also talks about the change in basis, which is what PCA is effectively doing to your data.\n",
    "\n",
    "Details about linear algebra are outside the scope of this course, but I would recommend the full series of videos in the above playlist to fill any gaps in understanding. Also, the visualisations are written in Python!"
   ]
  },
  {
   "cell_type": "markdown",
   "metadata": {},
   "source": [
    "### Limitations of PCA\n",
    "\n",
    "PCA is not a perfect algorithm (such a thing doesn't exist), and using it has drawbacks. These are listed below:\n",
    "\n",
    "### Computation Requirements\n",
    "\n",
    "From a practical perspective, it can be very computationally heavy to undertake PCA on a dataset, particularly a large one. For this reason, methods like a [Randomised PCA](http://lijiancheng0614.github.io/scikit-learn/modules/generated/sklearn.decomposition.RandomizedPCA.html) which gives an approximation that is normally good enough practically, but takes far less computation time.\n",
    "\n",
    "\n",
    "### Sparse Representations\n",
    "\n",
    "Another limitation of PCA is that the resulting vectors from a PCA transformation are often quite dense. What this means, is that many of the values in the components are non-zero. From a mathematical perspective, this doesn't matter. However, from a computational perspective, having lots of zero elements in a vector allows us to use sparse representations and sparse computation. Sparse representations reduce the amount of space it takes to save data. As an example, consider the vector:\n",
    "\n",
    "    x = np.array([0, 0, 3, 9, 0, 0, 0, 0, 0, 0])\n",
    "    \n",
    "This vector has 10 values, of which 8 are zero. Storing the vector as above, with zeros, in memory, takes 10 chunks of memory (where a chunk is based on the data type, so likely it would be 32 bits). In contrast, we can *assume* values are zero, and just store the non-zero values, and where they sit on this vector. In pseudo code:\n",
    "\n",
    "    x is a vector with 10 spots, defaulting to zero\n",
    "    there is a 3 at index 2\n",
    "    there is a 9 at index 3\n",
    "    \n",
    "This means we can store this whole vector as something like (again, not real code):\n",
    "\n",
    "    x = sparse_vector([(3, 2), (9, 3)])\n",
    "    \n",
    "Just four numbers, resulting in a saving of 60% of the total memory. This idea also generalises well to higher dimensions (you just record the full co-ordinates). As you might suspect, the actual implementation will be more than 4 numbers, but the general pattern is roughly consistent with this analysis. In short, you should use sparse matrices if you expect more than 60% of the data to be zeros.\n",
    "\n",
    "Additionally, if you know that you are using sparse vectors and matrices, you can use specialised algorithms (both mathematical and computational) that take advantage of this fact. This type of algorithm takes *longer* for dense matrices, but *less time* for sparse matrices. For an example, see the [Sparse PCA](https://scikit-learn.org/stable/modules/generated/sklearn.decomposition.SparsePCA.html)\n",
    "\n",
    "\n",
    "#### Exercises\n",
    "\n",
    "1. Run a SparsePCA, RandomizedPCA and (normal) PCA analysis on some data, and compare the explained variance ratio graphs for each.\n",
    "2. Rerun the same analysis on a *very large* dataset, while profiling the result. You can time how long code takes in a Jupyter notebook using the `%time` command:"
   ]
  },
  {
   "cell_type": "code",
   "execution_count": 3,
   "metadata": {},
   "outputs": [],
   "source": [
    "import time\n",
    "\n",
    "def my_function():\n",
    "    # A function that takes a while to compute. On my computer, about 11 seconds\n",
    "    time.sleep(1)\n",
    "    j = 0\n",
    "    for i in range(int(10e7)):\n",
    "        j += i"
   ]
  },
  {
   "cell_type": "code",
   "execution_count": 4,
   "metadata": {},
   "outputs": [
    {
     "name": "stdout",
     "output_type": "stream",
     "text": [
      "Wall time: 5.03 s\n"
     ]
    }
   ],
   "source": [
    "%time my_function()"
   ]
  },
  {
   "cell_type": "markdown",
   "metadata": {},
   "source": [
    "### Orthogonal representations\n",
    "\n",
    "A mathematical limit of PCA is that it relies on orthogonal transformations of the data. That means that every component will be orthogonal to each other.\n",
    "\n",
    "This is a good \"rule of thumb\" that works well for many datasets, but there are lots of datasets for which this type of transformation doesn't really help. For instance, consider this dataset, created from two different underlying models:"
   ]
  },
  {
   "cell_type": "code",
   "execution_count": 5,
   "metadata": {},
   "outputs": [],
   "source": [
    "x_part_1 = np.arange(100) * 3 + 4 + np.random.random(100) * 50\n",
    "x_part_2 = np.arange(100) * 1.1 - 2 + np.random.random(100) * 60"
   ]
  },
  {
   "cell_type": "code",
   "execution_count": 6,
   "metadata": {},
   "outputs": [
    {
     "data": {
      "text/plain": [
       "[<matplotlib.lines.Line2D at 0x1bff0732708>]"
      ]
     },
     "execution_count": 6,
     "metadata": {},
     "output_type": "execute_result"
    },
    {
     "data": {
      "image/png": "[encoded data removed]",
      "text/plain": [
       "<Figure size 432x288 with 1 Axes>"
      ]
     },
     "metadata": {
      "needs_background": "light"
     },
     "output_type": "display_data"
    }
   ],
   "source": [
    "plt.plot(x_part_1, 'ro')\n",
    "plt.plot(x_part_2, 'bo')"
   ]
  },
  {
   "cell_type": "markdown",
   "metadata": {},
   "source": [
    "In the above dataset, the best transformations would be the lines $3x + 4$ and $1.1x - 2$. However, PCA wouldn't find these lines. It would find the singular line-of-best-fit, and then the best line orthogonal to it:"
   ]
  },
  {
   "cell_type": "code",
   "execution_count": 7,
   "metadata": {},
   "outputs": [
    {
     "data": {
      "text/plain": [
       "(200, 2)"
      ]
     },
     "execution_count": 7,
     "metadata": {},
     "output_type": "execute_result"
    }
   ],
   "source": [
    "y_data = np.hstack([x_part_1, x_part_2])\n",
    "x_data = np.hstack([np.arange(100), np.arange(100)])\n",
    "X = np.vstack([x_data, y_data]).T\n",
    "X.shape"
   ]
  },
  {
   "cell_type": "code",
   "execution_count": 8,
   "metadata": {},
   "outputs": [
    {
     "data": {
      "text/plain": [
       "PCA(copy=True, iterated_power='auto', n_components=2, random_state=None,\n",
       "    svd_solver='auto', tol=0.0, whiten=False)"
      ]
     },
     "execution_count": 8,
     "metadata": {},
     "output_type": "execute_result"
    }
   ],
   "source": [
    "from sklearn.decomposition import PCA\n",
    "parts_PCA = PCA(n_components=2)\n",
    "parts_PCA.fit(X)"
   ]
  },
  {
   "cell_type": "code",
   "execution_count": 9,
   "metadata": {},
   "outputs": [
    {
     "data": {
      "text/plain": [
       "array([[ 0.26477871,  0.9643092 ],\n",
       "       [ 0.9643092 , -0.26477871]])"
      ]
     },
     "execution_count": 9,
     "metadata": {},
     "output_type": "execute_result"
    }
   ],
   "source": [
    "parts_PCA.components_"
   ]
  },
  {
   "cell_type": "code",
   "execution_count": 10,
   "metadata": {},
   "outputs": [
    {
     "data": {
      "image/png": "[encoded data removed]",
      "text/plain": [
       "<Figure size 432x288 with 1 Axes>"
      ]
     },
     "metadata": {
      "needs_background": "light"
     },
     "output_type": "display_data"
    }
   ],
   "source": [
    "plt.plot(X[:, 0], X[:, 1], 'o', alpha=0.5)\n",
    "for length, vector in zip(parts_PCA.explained_variance_, parts_PCA.components_):\n",
    "    v = vector * 3 * np.sqrt(length)  # The \"3\" just scales so the graph looks good\n",
    "    plt.plot([0, v[0]], [0, v[1]], '-k', lw=3)\n",
    "plt.axis('equal');"
   ]
  },
  {
   "cell_type": "markdown",
   "metadata": {},
   "source": [
    "Here, the line of best fit for the dots in blue above aren't represented well by this transformation. Instead, you can use other Factor analysis methods to find this type of transformation."
   ]
  },
  {
   "cell_type": "markdown",
   "metadata": {},
   "source": [
    "### Variance isn't everything\n",
    "\n",
    "PCA also assumes that the mean and covariance matrices effectively describe the dataset. Many datasets do not following this fact. If your distribution isn't effectively describe with a combination of a mean and variance value, then PCA is not going to give you a useful representation of your data. As an example, a Gaussian distribution is *only* defined by its mean and variance. Many distributions have more parameters.\n",
    "\n",
    "Despite this, even if a distribution can't be described with just a mean and variance, a PCA may still provide a useful result.\n",
    "\n",
    "Further to the above, PCA also assumes that *explaining the variance explains the data*. This is a consequence also that PCA is **scale variant**, which causes numbers with higher values and variances to be considered more important than numbers with lower values, even if those lower values are actually more important in the data. A common fix for this is to compute $z-scores$ for each variable, and then compute the PCA on the resulting Z scores instead.\n",
    "\n",
    "\n",
    "### A Linear Assumption\n",
    "\n",
    "PCA also assumes that the best way of looking at your data is as a linear combination of each other. Many relationships have more complicated relationships (log transformations, polynomial, exponent), and PCA cannot account for this."
   ]
  },
  {
   "cell_type": "markdown",
   "metadata": {},
   "source": [
    "#### Extended Exercise\n",
    "\n",
    "Download the Quandl dataset \"Capital Market Yields – Government Bonds - Daily\" from Quandl (code `RBA/F02`), compute the change in value per row (diff), and then perform the following steps:\n",
    "\n",
    "1. Split the data into a training set and a testing set. The test set contains the last row of the data. The training set contains all the previous data.\n",
    "2. *With only the training dataset*, fit a PCA model and extract the principle components\n",
    "3. How many principle components are needed to fit at least 99% of the variance in the data?\n",
    "4. Fit a OLS estimator on the lagged data, *for each principle component*. I explain this further below.\n",
    "5. Project the data into the test period, by taking the bias and coefficients of the OLS and predicting the next values.\n",
    "6. Map the projections onto the original data space, by taking the PCA's inverse, to get the actual predicted values\n",
    "7. Calculate the sum of squared error for your predictions.\n",
    "\n",
    "\n",
    "\n",
    "In step 4 above, I ask that we fit an OLS on each principle component. If we have a principle component $C$, we want to use the value $c_{n-1}$ to predict the value $c_{n}$ using the linear equation $c_n = \\beta_0 + \\beta_1 c_{n-1}$. In other words, we fit a linear model saying \"given the a value of this variable in a time series, what is the next value?\". This type of analysis, moving average, will be reviewed further in a future notebook (1.6.1). \n",
    "\n",
    "Solution is in `solutions/PCA Application Example Solution.ipynb`"
   ]
  },
  {
   "cell_type": "code",
   "execution_count": 11,
   "metadata": {},
   "outputs": [],
   "source": [
    "import quandl\n",
    "QUANDL_API_KEY = \"LG83xATyekf_nsd4kobs\"\n",
    "quandl.ApiConfig.api_key = QUANDL_API_KEY\n"
   ]
  },
  {
   "cell_type": "markdown",
   "metadata": {},
   "source": [
    "Note: This exercise fails for some versions of statsmodels, including different computers running 0.9.0. There is a simple fix, noted below where the error is."
   ]
  },
  {
   "cell_type": "code",
   "execution_count": 31,
   "metadata": {},
   "outputs": [
    {
     "data": {
      "text/html": [
       "<div>\n",
       "<style scoped>\n",
       "    .dataframe tbody tr th:only-of-type {\n",
       "        vertical-align: middle;\n",
       "    }\n",
       "\n",
       "    .dataframe tbody tr th {\n",
       "        vertical-align: top;\n",
       "    }\n",
       "\n",
       "    .dataframe thead th {\n",
       "        text-align: right;\n",
       "    }\n",
       "</style>\n",
       "<table border=\"1\" class=\"dataframe\">\n",
       "  <thead>\n",
       "    <tr style=\"text-align: right;\">\n",
       "      <th></th>\n",
       "      <th>2Year</th>\n",
       "      <th>3Year</th>\n",
       "      <th>5Year</th>\n",
       "      <th>10Year</th>\n",
       "    </tr>\n",
       "    <tr>\n",
       "      <th>Date</th>\n",
       "      <th></th>\n",
       "      <th></th>\n",
       "      <th></th>\n",
       "      <th></th>\n",
       "    </tr>\n",
       "  </thead>\n",
       "  <tbody>\n",
       "    <tr>\n",
       "      <th>2013-05-20</th>\n",
       "      <td>2.480</td>\n",
       "      <td>2.530</td>\n",
       "      <td>2.760</td>\n",
       "      <td>3.220</td>\n",
       "    </tr>\n",
       "    <tr>\n",
       "      <th>2013-05-21</th>\n",
       "      <td>2.520</td>\n",
       "      <td>2.570</td>\n",
       "      <td>2.795</td>\n",
       "      <td>3.255</td>\n",
       "    </tr>\n",
       "    <tr>\n",
       "      <th>2013-05-22</th>\n",
       "      <td>2.535</td>\n",
       "      <td>2.580</td>\n",
       "      <td>2.805</td>\n",
       "      <td>3.265</td>\n",
       "    </tr>\n",
       "    <tr>\n",
       "      <th>2013-05-23</th>\n",
       "      <td>2.530</td>\n",
       "      <td>2.585</td>\n",
       "      <td>2.825</td>\n",
       "      <td>3.295</td>\n",
       "    </tr>\n",
       "    <tr>\n",
       "      <th>2013-05-24</th>\n",
       "      <td>2.540</td>\n",
       "      <td>2.595</td>\n",
       "      <td>2.840</td>\n",
       "      <td>3.310</td>\n",
       "    </tr>\n",
       "  </tbody>\n",
       "</table>\n",
       "</div>"
      ],
      "text/plain": [
       "            2Year  3Year  5Year  10Year\n",
       "Date                                   \n",
       "2013-05-20  2.480  2.530  2.760   3.220\n",
       "2013-05-21  2.520  2.570  2.795   3.255\n",
       "2013-05-22  2.535  2.580  2.805   3.265\n",
       "2013-05-23  2.530  2.585  2.825   3.295\n",
       "2013-05-24  2.540  2.595  2.840   3.310"
      ]
     },
     "execution_count": 31,
     "metadata": {},
     "output_type": "execute_result"
    }
   ],
   "source": [
    "bonds = quandl.get(\"RBA/F02\")\n",
    "bonds = bonds[bonds.columns[:4]]\n",
    "bonds.columns = [\"2Year\", \"3Year\", \"5Year\", \"10Year\"]  # I plan to use statsmodels, so no spaces in variable names!\n",
    "bonds.head()"
   ]
  },
  {
   "cell_type": "code",
   "execution_count": 32,
   "metadata": {},
   "outputs": [
    {
     "data": {
      "text/plain": [
       "<matplotlib.axes._subplots.AxesSubplot at 0x1bff2610f08>"
      ]
     },
     "execution_count": 32,
     "metadata": {},
     "output_type": "execute_result"
    },
    {
     "data": {
      "image/png": "[encoded data removed]",
      "text/plain": [
       "<Figure size 432x288 with 1 Axes>"
      ]
     },
     "metadata": {
      "needs_background": "light"
     },
     "output_type": "display_data"
    }
   ],
   "source": [
    "bonds.plot()"
   ]
  },
  {
   "cell_type": "code",
   "execution_count": 33,
   "metadata": {},
   "outputs": [],
   "source": [
    "training = bonds.iloc[:len(bonds)-1].copy() \n",
    "testing = bonds.iloc[len(bonds)-1:].copy() "
   ]
  },
  {
   "cell_type": "code",
   "execution_count": 39,
   "metadata": {},
   "outputs": [
    {
     "data": {
      "text/plain": [
       "PCA(copy=True, iterated_power='auto', n_components=None, random_state=None,\n",
       "    svd_solver='auto', tol=0.0, whiten=False)"
      ]
     },
     "execution_count": 39,
     "metadata": {},
     "output_type": "execute_result"
    }
   ],
   "source": [
    "model = PCA()\n",
    "model.fit(training)"
   ]
  },
  {
   "cell_type": "code",
   "execution_count": 40,
   "metadata": {},
   "outputs": [
    {
     "data": {
      "text/plain": [
       "array([9.90940417e-01, 7.51030776e-03, 1.47481043e-03, 7.44652191e-05])"
      ]
     },
     "execution_count": 40,
     "metadata": {},
     "output_type": "execute_result"
    }
   ],
   "source": [
    "model.explained_variance_ratio_"
   ]
  },
  {
   "cell_type": "code",
   "execution_count": 111,
   "metadata": {},
   "outputs": [
    {
     "data": {
      "text/plain": [
       "[<matplotlib.lines.Line2D at 0x1bff4023908>,\n",
       " <matplotlib.lines.Line2D at 0x1bff402bf88>]"
      ]
     },
     "execution_count": 111,
     "metadata": {},
     "output_type": "execute_result"
    },
    {
     "data": {
      "image/png": "[encoded data removed]",
      "text/plain": [
       "<Figure size 432x288 with 1 Axes>"
      ]
     },
     "metadata": {
      "needs_background": "light"
     },
     "output_type": "display_data"
    }
   ],
   "source": [
    "# You can simplify the above using this parameter:\n",
    "model = PCA(n_components=0.991)  # i.e. explain 95% or more\n",
    "model.fit(training)\n",
    "X_training_proj = model.transform(training)  # Project the data onto the components\n",
    "from matplotlib import pyplot as plt\n",
    "plt.plot(X_training_proj)"
   ]
  },
  {
   "cell_type": "code",
   "execution_count": 112,
   "metadata": {},
   "outputs": [
    {
     "name": "stdout",
     "output_type": "stream",
     "text": [
      "Estimator 0: R2 = 0.997\n",
      "Estimator 1: R2 = 0.973\n"
     ]
    }
   ],
   "source": [
    "import statsmodels.api as sm\n",
    "import numpy as np\n",
    "# Store estimators for later use\n",
    "estimators = []\n",
    "\n",
    "# Predictions for values. I'll just append here, and transpose at the end\n",
    "Y_pred = []\n",
    "Y_actual = []\n",
    "\n",
    "# Iterate over all principle components:\n",
    "for i in range(model.n_components_):\n",
    "\n",
    "    # Here, we lag X compared to Y. X will be one time period behind Y\n",
    "    X = X_training_proj[:-1, i]\n",
    "    Y = X_training_proj[1:, i]\n",
    "    Y_actual.append(Y)\n",
    "\n",
    "\n",
    "    X = sm.add_constant(X)\n",
    "\n",
    "    # Fit an OLS model and get a summary\n",
    "    est = sm.OLS(Y, X).fit()\n",
    "    estimators.append(est)\n",
    "    print(\"Estimator {}: R2 = {:.3f}\".format(i, est.rsquared))\n",
    "    Y_pred.append(est.predict(X))\n",
    "    \n",
    "Y_pred = np.array(Y_pred).transpose()\n",
    "Y_actual = np.array(Y_actual).transpose()  # Challenge - can you compute this using NumPy outside the loop?"
   ]
  },
  {
   "cell_type": "code",
   "execution_count": 113,
   "metadata": {},
   "outputs": [
    {
     "data": {
      "text/plain": [
       "[<matplotlib.lines.Line2D at 0x1bff4076648>]"
      ]
     },
     "execution_count": 113,
     "metadata": {},
     "output_type": "execute_result"
    },
    {
     "data": {
      "image/png": "[encoded data removed]",
      "text/plain": [
       "<Figure size 432x288 with 1 Axes>"
      ]
     },
     "metadata": {
      "needs_background": "light"
     },
     "output_type": "display_data"
    }
   ],
   "source": [
    "plt.plot(X_training_proj[:,0])\n",
    "plt.plot(Y_pred[:,0])  # Very close!"
   ]
  },
  {
   "cell_type": "code",
   "execution_count": 114,
   "metadata": {},
   "outputs": [
    {
     "data": {
      "text/plain": [
       "array([[-1.23064731, -0.19233449],\n",
       "       [-1.25245703, -0.19858086],\n",
       "       [-1.28107736, -0.17589706],\n",
       "       [-1.30646533, -0.17515492],\n",
       "       [-1.23851543, -0.17336125]])"
      ]
     },
     "execution_count": 114,
     "metadata": {},
     "output_type": "execute_result"
    }
   ],
   "source": [
    "Y_actual[:5]  # Note: this is projected onto the components of the PCA!"
   ]
  },
  {
   "cell_type": "code",
   "execution_count": 115,
   "metadata": {},
   "outputs": [],
   "source": [
    "Y_actual_original_space = model.inverse_transform(Y_actual)\n",
    "Y_pred_original_space = model.inverse_transform(Y_pred)"
   ]
  },
  {
   "cell_type": "code",
   "execution_count": 116,
   "metadata": {},
   "outputs": [
    {
     "data": {
      "text/plain": [
       "array([[2.50973494, 2.57877942, 2.80308185, 3.2481857 ],\n",
       "       [2.52273595, 2.5908674 , 2.81401013, 3.25713601],\n",
       "       [2.51911029, 2.59599513, 2.83070426, 3.28900363],\n",
       "       [2.52887631, 2.60728069, 2.84403616, 3.304644  ],\n",
       "       [2.50020577, 2.57576131, 2.80864191, 3.26524627]])"
      ]
     },
     "execution_count": 116,
     "metadata": {},
     "output_type": "execute_result"
    }
   ],
   "source": [
    "Y_actual_original_space[:5]"
   ]
  },
  {
   "cell_type": "code",
   "execution_count": 117,
   "metadata": {},
   "outputs": [
    {
     "data": {
      "text/plain": [
       "11.818770661200212"
      ]
     },
     "execution_count": 117,
     "metadata": {},
     "output_type": "execute_result"
    }
   ],
   "source": [
    "# Compute sum of squared error:\n",
    "np.sum((Y_pred_original_space - Y_actual_original_space)** 2)"
   ]
  },
  {
   "cell_type": "code",
   "execution_count": 103,
   "metadata": {},
   "outputs": [],
   "source": []
  },
  {
   "cell_type": "code",
   "execution_count": 118,
   "metadata": {},
   "outputs": [
    {
     "data": {
      "text/plain": [
       "array([[0.22486373, 0.26945065, 0.45293665, 0.92751476]])"
      ]
     },
     "execution_count": 118,
     "metadata": {},
     "output_type": "execute_result"
    }
   ],
   "source": [
    "# Let's see how it compares to the testing data\n",
    "testing_proj = model.transform(testing)\n",
    "testing_proj\n",
    "#\n",
    "testing_prediction = []\n",
    "for i in range(model.n_components_):\n",
    "    # Create a data row - remember our estimators have a constant, so we need that\n",
    "    row = [1, testing_proj[:,i]]\n",
    "    # Reshape, so it is a (1, 2), rather than just a (2,) array. This is the shape statsmodels requires\n",
    "    row = np.reshape(row, (1, 2))\n",
    "    # Predict this row\n",
    "    p = est.predict(row)\n",
    "    # Statsmodels produces a prediction for each row - we just want the value.\n",
    "    # Transofrm the (1, 1) result into just a (1,), and append to our predictions\n",
    "    \n",
    "    # Potential error here:\n",
    "    testing_prediction.append(p[0])  # If this errors, try p[0][0]\n",
    "\n",
    "# testing_prediction now contains the predicted, projected values for the last row\n",
    "\n",
    "# Unproject those value, i.e. transform back to the original space\n",
    "predictions = model.inverse_transform(np.array(testing_prediction).T)\n",
    "predictions"
   ]
  },
  {
   "cell_type": "code",
   "execution_count": 119,
   "metadata": {},
   "outputs": [
    {
     "data": {
      "text/html": [
       "<div>\n",
       "<style scoped>\n",
       "    .dataframe tbody tr th:only-of-type {\n",
       "        vertical-align: middle;\n",
       "    }\n",
       "\n",
       "    .dataframe tbody tr th {\n",
       "        vertical-align: top;\n",
       "    }\n",
       "\n",
       "    .dataframe thead th {\n",
       "        text-align: right;\n",
       "    }\n",
       "</style>\n",
       "<table border=\"1\" class=\"dataframe\">\n",
       "  <thead>\n",
       "    <tr style=\"text-align: right;\">\n",
       "      <th></th>\n",
       "      <th>2Year</th>\n",
       "      <th>3Year</th>\n",
       "      <th>5Year</th>\n",
       "      <th>10Year</th>\n",
       "    </tr>\n",
       "    <tr>\n",
       "      <th>Date</th>\n",
       "      <th></th>\n",
       "      <th></th>\n",
       "      <th></th>\n",
       "      <th></th>\n",
       "    </tr>\n",
       "  </thead>\n",
       "  <tbody>\n",
       "    <tr>\n",
       "      <th>2020-04-08</th>\n",
       "      <td>0.22</td>\n",
       "      <td>0.245</td>\n",
       "      <td>0.42</td>\n",
       "      <td>0.92</td>\n",
       "    </tr>\n",
       "  </tbody>\n",
       "</table>\n",
       "</div>"
      ],
      "text/plain": [
       "            2Year  3Year  5Year  10Year\n",
       "Date                                   \n",
       "2020-04-08   0.22  0.245   0.42    0.92"
      ]
     },
     "execution_count": 119,
     "metadata": {},
     "output_type": "execute_result"
    }
   ],
   "source": [
    "testing  # Actual values for the last row"
   ]
  },
  {
   "cell_type": "code",
   "execution_count": 120,
   "metadata": {},
   "outputs": [
    {
     "data": {
      "text/plain": [
       "0.0017627848524596234"
      ]
     },
     "execution_count": 120,
     "metadata": {},
     "output_type": "execute_result"
    }
   ],
   "source": [
    "# Sum of squared error\n",
    "np.sum((predictions - testing.values)** 2)"
   ]
  }
 ],
 "metadata": {
  "kernelspec": {
   "display_name": "Python 3",
   "language": "python",
   "name": "python3"
  },
  "language_info": {
   "codemirror_mode": {
    "name": "ipython",
    "version": 3
   },
   "file_extension": ".py",
   "mimetype": "text/x-python",
   "name": "python",
   "nbconvert_exporter": "python",
   "pygments_lexer": "ipython3",
   "version": "3.7.7"
  }
 },
 "nbformat": 4,
 "nbformat_minor": 2
}
